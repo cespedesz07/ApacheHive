{
 "cells": [
  {
   "cell_type": "markdown",
   "metadata": {},
   "source": [
    "**Recuerde no agregar o quitar celdas en este notebook, ni modificar su tipo. Si lo hace, el sistema automaticamente lo calificará con cero punto cero (0.0)**"
   ]
  },
  {
   "cell_type": "markdown",
   "metadata": {},
   "source": [
    "Para resolver los problemas presentados, use el siguiente conjunto de datos. Use [gradetool](gradetool.md) para verificar las respuestas del notebook."
   ]
  },
  {
   "cell_type": "code",
   "execution_count": 3,
   "metadata": {},
   "outputs": [
    {
     "name": "stdout",
     "output_type": "stream",
     "text": [
      "The bigdata extension is already loaded. To reload it, use:\n",
      "  %reload_ext bigdata\n",
      "500\n",
      "Hive initialized!\n"
     ]
    }
   ],
   "source": [
    "%load_ext bigdata\n",
    "%timeout 500\n",
    "%hive_init"
   ]
  },
  {
   "cell_type": "code",
   "execution_count": 1,
   "metadata": {},
   "outputs": [
    {
     "name": "stdout",
     "output_type": "stream",
     "text": [
      "Writing tbl0.csv\n"
     ]
    }
   ],
   "source": [
    "%%writefile tbl0.csv\n",
    "1,D,4,2016-06-25,a:e:c:d,bb#10:dd#20:cc#40\n",
    "2,C,4,2015-05-14,a:c,dd#40:bb#20:cc#10\n",
    "3,D,6,2014-12-26,b:d,aa#10:bb#40\n",
    "4,D,5,2016-06-25,a:c:e:b:d,bb#40:dd#20:aa#10:cc#30\n",
    "5,C,7,2016-05-23,d:e:c,cc#10:aa#20\n",
    "6,A,2,2018-06-14,a:d,aa#20\n",
    "7,B,3,2014-12-22,a:e:d,cc#20\n",
    "8,C,6,2015-08-20,d:a:c:e,cc#10:aa#20\n",
    "9,B,3,2017-12-08,b:a:c:e,cc#40:dd#10:aa#30:bb#20\n",
    "10,B,7,2015-07-28,c:d:e:a:b,aa#10:dd#40:cc#30"
   ]
  },
  {
   "cell_type": "code",
   "execution_count": null,
   "metadata": {},
   "outputs": [],
   "source": [
    "%%hive\n",
    "DROP TABLE IF EXISTS tbl0;\n",
    "CREATE TABLE tbl0 (c1 INT, c2 STRING, c3 INT, c4 DATE, c5 ARRAY<CHAR(1)>, c6 MAP<STRING, INT>) ROW FORMAT DELIMITED FIELDS TERMINATED BY ',' COLLECTION ITEMS TERMINATED BY ':' MAP KEYS TERMINATED BY '#' LINES TERMINATED BY '\\n';\n",
    "LOAD DATA LOCAL INPATH 'tbl0.csv' INTO TABLE tbl0;\n",
    "\n",
    "SELECT * FROM tbl0;"
   ]
  },
  {
   "cell_type": "code",
   "execution_count": 2,
   "metadata": {},
   "outputs": [
    {
     "name": "stdout",
     "output_type": "stream",
     "text": [
      "Writing tbl1.csv\n"
     ]
    }
   ],
   "source": [
    "%%writefile tbl1.csv\n",
    "1,7,bb,A#0:B#4:C#1:D#3:E#5\n",
    "2,13,Cc,A#4:B#1:C#0:D#5:E#2\n",
    "3,11,dD,A#5:B#4:C#3:D#1:E#0\n",
    "4,3,BB,A#2:B#4:C#3:D#5:E#1\n",
    "5,14,cc,A#4:B#0:C#2:D#5:E#3\n",
    "6,8,cC,A#4:B#5:C#1:D#2:E#3\n",
    "7,2,DD,A#0:B#5:C#2:D#4:E#3\n",
    "8,6,dd,A#4:B#2:C#5:D#3:E#0\n",
    "9,9,aa,A#1:B#4:C#2:D#5:E#3\n",
    "10,4,Bb,A#2:B#3:C#4:D#1:E#0"
   ]
  },
  {
   "cell_type": "code",
   "execution_count": null,
   "metadata": {},
   "outputs": [],
   "source": [
    "%%hive\n",
    "DROP TABLE IF EXISTS tbl1;\n",
    "CREATE TABLE tbl1 (c1 INT, c2 INT, c3 STRING, c4 MAP<STRING, INT>) ROW FORMAT DELIMITED FIELDS TERMINATED BY ',' COLLECTION ITEMS TERMINATED BY ':' MAP KEYS TERMINATED BY '#' LINES TERMINATED BY '\\n';\n",
    "LOAD DATA LOCAL INPATH 'tbl1.csv' INTO TABLE tbl1;\n",
    "\n",
    "SELECT * FROM tbl1;"
   ]
  },
  {
   "cell_type": "markdown",
   "metadata": {},
   "source": [
    "# Problema 1\n",
    "\n",
    "Escriba una consulta que retorne los valores únicos de la columna `t0.c5` (ordenados). "
   ]
  },
  {
   "cell_type": "code",
   "execution_count": null,
   "metadata": {},
   "outputs": [],
   "source": [
    "%%hive\n",
    "select distinct letters from (select explode(c5) as letters from tbl0) only_letters;\n",
    "-- select distinct letters from tbl0 lateral view explode(c5) t0 as letters;"
   ]
  },
  {
   "cell_type": "markdown",
   "metadata": {},
   "source": [
    "# Problema 2\n",
    "\n",
    "Realice una consulta que compute la cantidad de veces que aparece cada valor de la columna `t0.c5`  por año."
   ]
  },
  {
   "cell_type": "code",
   "execution_count": null,
   "metadata": {},
   "outputs": [],
   "source": [
    "%%hive\n",
    "SELECT date_format(c4, 'yyyy') AS year, letters, count(*) FROM tbl0 LATERAL VIEW explode(c5) t0 AS letters GROUP BY date_format(c4, 'yyyy'), letters;"
   ]
  },
  {
   "cell_type": "markdown",
   "metadata": {},
   "source": [
    "# Problema 3\n",
    "\n",
    "Escriba una consulta que retorne los elementos de la columna t0.c5 en mayúsculas, tal como se muestra a continuación.\n",
    "\n",
    "Original:\n",
    "\n",
    "    [\"a\",\"e\",\"c\",\"d\"]\n",
    "    [\"a\",\"c\"]\n",
    "    [\"b\",\"d\"]\n",
    "    [\"a\",\"c\",\"e\",\"b\",\"d\"]\n",
    "    [\"d\",\"e\",\"c\"]\n",
    "    [\"a\",\"d\"]\n",
    "    [\"a\",\"e\",\"d\"]\n",
    "    [\"d\",\"a\",\"c\",\"e\"]\n",
    "    [\"b\",\"a\",\"c\",\"e\"]\n",
    "    [\"c\",\"d\",\"e\",\"a\",\"b\"]\n",
    "\n",
    "Transformada:\n",
    "\n",
    "    [\"A\",\"E\",\"C\",\"D\"]\n",
    "    [\"A\",\"C\"]\n",
    "    [\"B\",\"D\"]\n",
    "    [\"A\",\"C\",\"E\",\"B\",\"D\"]\n",
    "    [\"D\",\"E\",\"C\"]\n",
    "    [\"A\",\"D\"]\n",
    "    [\"A\",\"E\",\"D\"]\n",
    "    [\"D\",\"A\",\"C\",\"E\"]\n",
    "    [\"B\",\"A\",\"C\",\"E\"]\n",
    "    [\"C\",\"D\",\"E\",\"A\",\"B\"]"
   ]
  },
  {
   "cell_type": "code",
   "execution_count": null,
   "metadata": {},
   "outputs": [],
   "source": [
    "%%hive\n",
    "SELECT COLLECT_LIST(UPPER(exploded_array)) FROM tbl0 LATERAL VIEW explode(c5) exploded_table AS exploded_array GROUP BY c1"
   ]
  },
  {
   "cell_type": "markdown",
   "metadata": {},
   "source": [
    "# Problema 4\n",
    "\n",
    "Escriba una consulta que retorne para cada valor único de la columna `t0.c2`, los valores correspondientes de la columna `\n",
    "t0.c1`. "
   ]
  },
  {
   "cell_type": "code",
   "execution_count": null,
   "metadata": {},
   "outputs": [],
   "source": [
    "%%hive\n",
    "SELECT tbl0.c2, COLLECT_SET(tbl0.c1) FROM tbl0 GROUP BY tbl0.c2;"
   ]
  },
  {
   "cell_type": "markdown",
   "metadata": {},
   "source": [
    "# Problema 5\n",
    "\n",
    "Escriba una consulta que para cada valor único de la columna `t0.c2,` calcule la suma de todos los valores asociados a las claves en la columna `t0.c6`."
   ]
  },
  {
   "cell_type": "code",
   "execution_count": null,
   "metadata": {},
   "outputs": [],
   "source": [
    "%%hive\n",
    "SELECT c2, sum(value) FROM tbl0 LATERAL VIEW explode(c6) tbl0 GROUP BY c2;"
   ]
  },
  {
   "cell_type": "markdown",
   "metadata": {},
   "source": [
    "# Problema 6\n",
    "\n",
    "Escriba una consulta que retorne la columna `tbl0.c1` y el valor correspondiente de la columna `tbl1.c4` para la columna `tbl0.c2`."
   ]
  },
  {
   "cell_type": "code",
   "execution_count": null,
   "metadata": {},
   "outputs": [],
   "source": [
    "%%hive\n",
    "SELECT tbl0.c1, tbl0.c2, tbl1.c4[ tbl0.c2 ] FROM tbl0 INNER JOIN tbl1 ON tbl0.c1 = tbl1.c1;"
   ]
  },
  {
   "cell_type": "markdown",
   "metadata": {},
   "source": [
    "---"
   ]
  },
  {
   "cell_type": "code",
   "execution_count": null,
   "metadata": {},
   "outputs": [],
   "source": [
    "!rm tbl* "
   ]
  }
 ],
 "metadata": {
  "kernelspec": {
   "display_name": "Python 3",
   "language": "python",
   "name": "python3"
  },
  "language_info": {
   "codemirror_mode": {
    "name": "ipython",
    "version": 3
   },
   "file_extension": ".py",
   "mimetype": "text/x-python",
   "name": "python",
   "nbconvert_exporter": "python",
   "pygments_lexer": "ipython3",
   "version": "3.7.0"
  },
  "toc": {
   "base_numbering": 1,
   "nav_menu": {},
   "number_sections": false,
   "sideBar": true,
   "skip_h1_title": true,
   "title_cell": "Table of Contents",
   "title_sidebar": "Contents",
   "toc_cell": false,
   "toc_position": {},
   "toc_section_display": true,
   "toc_window_display": true
  },
  "toc-autonumbering": false
 },
 "nbformat": 4,
 "nbformat_minor": 2
}
