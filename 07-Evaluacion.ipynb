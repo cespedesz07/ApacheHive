{
 "cells": [
  {
   "cell_type": "markdown",
   "metadata": {},
   "source": [
    "**Recuerde no agregar o quitar celdas en este notebook, ni modificar su tipo. Si lo hace, el sistema automaticamente lo calificará con cero punto cero (0.0)**"
   ]
  },
  {
   "cell_type": "markdown",
   "metadata": {},
   "source": [
    "Para resolver los problemas presentados, use el siguiente conjunto de datos. Use [gradetool](gradetool.md) para verificar las respuestas del notebook."
   ]
  },
  {
   "cell_type": "code",
   "execution_count": 1,
   "metadata": {},
   "outputs": [
    {
     "name": "stdout",
     "output_type": "stream",
     "text": [
      "Overwriting data.tsv\n"
     ]
    }
   ],
   "source": [
    "%%writefile data.tsv\n",
    "E\tb,g,f\tjjj#3,bbb#0,ddd#9,ggg#8,hhh#2\n",
    "A\ta,f,c\tccc#2,ddd#0,aaa#3,hhh#9\n",
    "B\tf,e,a,c\tddd#2,ggg#5,ccc#6,jjj#1\n",
    "A\ta,b\thhh#9,iii#5,eee#7,bbb#1\n",
    "C\tf,g,d,a\tiii#6,ddd#5,eee#4,jjj#3\n",
    "A\tc,d\tbbb#2,hhh#0,ccc#4,fff#1,aaa#7\n",
    "A\tg,d,a\taaa#5,fff#8,ddd#2,iii#0,jjj#7,ccc#1\n",
    "B\tb,a\tfff#3,hhh#1,ddd#2\n",
    "E\td,e,a,f\teee#4,ccc#5,iii#9,fff#7,ggg#6,bbb#0\n",
    "B\td,b,g,f\tbbb#7,jjj#9,fff#5,iii#4,ggg#2,eee#3\n",
    "C\td,c,f,b\thhh#6,eee#4,iii#0,fff#2,jjj#1\n",
    "C\td,e,a,c\tbbb#7,iii#6,ggg#9\n",
    "D\tg,e,f,b\tbbb#9,aaa#3,ccc#6,fff#4,eee#2\n",
    "E\tc,f\taaa#8,ddd#5,jjj#1\n",
    "B\td,b\tccc#0,jjj#6,fff#7,ddd#3,aaa#2\n",
    "D\tf,e\tccc#0,eee#6,bbb#9,ddd#3\n",
    "E\te,b,f\tbbb#6,iii#3,hhh#5,fff#4,ggg#9,ddd#2\n",
    "D\tg,a\thhh#4,jjj#5,ccc#9\n",
    "E\te,c,f,a\tccc#1,iii#6,fff#9\n",
    "E\te,a\tbbb#9,aaa#3,fff#1\n",
    "E\te,f\tddd#9,iii#2,aaa#4\n",
    "E\tc,b,g\tccc#5,fff#8,iii#7\n",
    "D\tc,f,a\teee#3,jjj#2,ddd#7\n",
    "A\tf,a,d\tjjj#1,ggg#0,ccc#7,ddd#9,bbb#3\n",
    "E\tc,d\tjjj#6,ccc#0,aaa#1,hhh#9,iii#7,ggg#8\n",
    "E\te,d,c\tfff#3,eee#6,iii#4,bbb#7,ddd#0,ccc#1\n",
    "A\ta,e,f\tfff#0,ddd#5,ccc#4\n",
    "E\tc,a,g\tggg#6,hhh#3,ddd#9,ccc#0,jjj#7\n",
    "A\tf,e\thhh#6,jjj#0,eee#5,iii#7,ccc#3\n",
    "C\tf,c,a,g\teee#1,fff#4,aaa#2,ccc#7,ggg#0,ddd#6\n",
    "A\tb,f\tccc#6,aaa#9,eee#5,ddd#0,bbb#3\n",
    "D\tb,f\tbbb#7,hhh#1,aaa#6,iii#4,fff#9,ddd#5\n",
    "E\ta,c\tfff#3,ccc#1,ggg#2,eee#5\n",
    "B\tb,f,c\tiii#7,ggg#3,ddd#0,jjj#8,hhh#5,ccc#1\n",
    "B\tf,a,e\thhh#6,ccc#3,jjj#0,bbb#8,ddd#7\n",
    "D\ta,f\taaa#0,fff#5,ddd#3\n",
    "B\tc,a\tddd#5,jjj#2,iii#7,ccc#0,bbb#4\n",
    "C\tc,a,e,f\teee#0,fff#2,hhh#6\n",
    "E\te,d\tfff#9,iii#2,eee#0\n",
    "E\tf,a,d\thhh#8,ggg#3,jjj#5"
   ]
  },
  {
   "cell_type": "code",
   "execution_count": 6,
   "metadata": {},
   "outputs": [
    {
     "name": "stdout",
     "output_type": "stream",
     "text": [
      "The bigdata extension is already loaded. To reload it, use:\n",
      "  %reload_ext bigdata\n",
      "Hive initialized!\n"
     ]
    }
   ],
   "source": [
    "%load_ext bigdata\n",
    "%hive_init"
   ]
  },
  {
   "cell_type": "code",
   "execution_count": 7,
   "metadata": {},
   "outputs": [],
   "source": [
    "%%hive\n",
    "DROP TABLE IF EXISTS t0;\n",
    "CREATE TABLE t0 (c1 STRING, c2 ARRAY<CHAR(1)>, c3 MAP<STRING, INT>) ROW FORMAT DELIMITED FIELDS TERMINATED BY '\\t' COLLECTION ITEMS TERMINATED BY ',' MAP KEYS TERMINATED BY '#' LINES TERMINATED BY '\\n';\n",
    "LOAD DATA LOCAL INPATH 'data.tsv' INTO TABLE t0;"
   ]
  },
  {
   "cell_type": "markdown",
   "metadata": {},
   "source": [
    "# Problema 1\n",
    "\n",
    "Escriba una consulta que calcule la cantidad de registros por clave de la columna 3. En otras palabras, cuántos registros hay que tengan la clave `aaa`?"
   ]
  },
  {
   "cell_type": "code",
   "execution_count": 3,
   "metadata": {},
   "outputs": [],
   "source": [
    "%%hive\n",
    "select exploded_table.key, count(exploded_table.key) from (select explode(c3) as (key, value) from t0) exploded_table group by exploded_table.key;"
   ]
  },
  {
   "cell_type": "markdown",
   "metadata": {},
   "source": [
    "# Problema 2\n",
    "\n",
    "Escriba una consulta que retorne la primera columna, la cantidad de elementos en la columna 2 y la cantidad de elementos en la columna 3"
   ]
  },
  {
   "cell_type": "code",
   "execution_count": 4,
   "metadata": {},
   "outputs": [],
   "source": [
    "%%hive\n",
    "select c1, size(c2), size(c3) from t0;"
   ]
  },
  {
   "cell_type": "markdown",
   "metadata": {},
   "source": [
    "# Problema 3\n",
    "\n",
    "Escriba una consulta que compute la cantidad de registros por letra de la columna 2 y clave de la columna 3; esto es, por ejemplo, la cantidad de registros en tienen la letra `a` en la columna 2 y la clave `aaa` en la columna 3 es:\n",
    "\n",
    "     a    aaa    5"
   ]
  },
  {
   "cell_type": "code",
   "execution_count": null,
   "metadata": {},
   "outputs": [],
   "source": [
    "%%hive\n",
    "SELECT letter, key, count(*) FROM t0 LATERAL VIEW explode(c3) t0 AS key, value LATERAL VIEW explode(c2) t0 AS letter GROUP BY letter, key"
   ]
  },
  {
   "cell_type": "markdown",
   "metadata": {},
   "source": [
    "---"
   ]
  },
  {
   "cell_type": "code",
   "execution_count": null,
   "metadata": {},
   "outputs": [],
   "source": [
    "!rm data.* pig_*"
   ]
  }
 ],
 "metadata": {
  "kernelspec": {
   "display_name": "Python 3",
   "language": "python",
   "name": "python3"
  },
  "language_info": {
   "codemirror_mode": {
    "name": "ipython",
    "version": 3
   },
   "file_extension": ".py",
   "mimetype": "text/x-python",
   "name": "python",
   "nbconvert_exporter": "python",
   "pygments_lexer": "ipython3",
   "version": "3.7.0"
  },
  "toc": {
   "base_numbering": 1,
   "nav_menu": {},
   "number_sections": false,
   "sideBar": true,
   "skip_h1_title": true,
   "title_cell": "Table of Contents",
   "title_sidebar": "Contents",
   "toc_cell": false,
   "toc_position": {},
   "toc_section_display": true,
   "toc_window_display": true
  },
  "toc-autonumbering": false
 },
 "nbformat": 4,
 "nbformat_minor": 2
}
