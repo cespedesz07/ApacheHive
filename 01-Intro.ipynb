{
 "cells": [
  {
   "cell_type": "markdown",
   "metadata": {},
   "source": [
    "Introducción\n",
    "==="
   ]
  },
  {
   "cell_type": "markdown",
   "metadata": {},
   "source": [
    "## Ejecución de Hive"
   ]
  },
  {
   "cell_type": "markdown",
   "metadata": {},
   "source": [
    "### Ejecución de Hive en la consola de comandos\n",
    "\n",
    "Esta es la forma más común de trabajo. La bodega de datos debe ser creada en la carpeta donde se invocará `hive` con el siguiente comando:\n",
    "\n",
    "     $HIVE_HOME/bin/schematool -dbType derby -initSchema\n",
    "     \n",
    "Note que si invoca `hive` desde otra carpeta se generará un error. En otras palabras, use el comando anterior en la carpeta donde descargo esta serie de tutoriales para que los comandos puedan ejecutarse desde Jupyter.\n",
    "\n",
    "Adicionalmente debe hacer la capeta `/tmp/hive` escribible con `sudo chmod 777 /tmp/hive`.\n",
    "\n",
    "La primera vez que se ejecuta Hive, crea en la carpeta actual, las carpetas:\n",
    "\n",
    "* metastore_db: contiene los metadatos\n",
    "\n",
    "\n",
    "* warehouse: contiene las bases de datos y las tablas\n",
    "\n",
    "También es posible enviar comandos y salir inmediatamente de `hive`. Para ello, use la opción `-e`; por ejemplo, en Terminal digite:\n",
    "\n",
    "    hive -e \"SHOW DATABASES;\"\n",
    "    \n",
    "La opción `-S` corresponde al modo silencioso, en el que se suprime información adicional. En conjunción con el operador `>` hace posible la generación de archivos de texto con los resultados de la ejecución de uno o más comandos:\n",
    "\n",
    "    hive -S -e \"SELECT * FROM table LIMIT 3;\" > result.txt\n",
    "    \n",
    "    \n",
    "Adicionalmente, es posible almacenar secuencias de comandos en archivos (usualmente con extensión \".q\" o \".hql\" que pueden ejecutarse desde `hive`. En el prompt de `hive` use el comando `source`:\n",
    "\n",
    "    hive> source miprog.hql\n",
    "    \n",
    "    \n",
    "y en la línea de comandos\n",
    "\n",
    "    hive -S -e \"source miprog.hql\"\n",
    "\n",
    "\n"
   ]
  },
  {
   "cell_type": "markdown",
   "metadata": {},
   "source": [
    "### Ejecución de comandos del sistema operativo desde Hive\n",
    "\n",
    "`Hive` permite la ejecución de comandos del sistema operativo usando `!`; por ejemplo:\n",
    "\n",
    "     hive> ! ls\n",
    "     \n",
    "También es posible usar comandos del sistema HDFS; el comando `hadoop dfs -ls /` se escribiría en `hive` como\n",
    "\n",
    "     hive> dfs -ls / ;\n",
    "     "
   ]
  },
  {
   "cell_type": "markdown",
   "metadata": {},
   "source": [
    "### Comentarios\n",
    "\n",
    "Se usan los dos guiones `--`."
   ]
  },
  {
   "cell_type": "markdown",
   "metadata": {},
   "source": [
    "## Ejecución de Hive en Jupyter\n",
    "\n",
    "A continuación se describe como ejecutar comandos de Hive en Jupyter. El archivo `hivemagic.py` contiene el codigo para ejecutar comandos de Hive directamente en las celdas de un libro de Jupyter. Para instalar el magic, simplemente ejecute el código de dicho archivo.\n",
    "\n",
    "Modifique el archivo `bd.py` indicando el directorio de instalación de Hive."
   ]
  },
  {
   "cell_type": "code",
   "execution_count": 1,
   "metadata": {},
   "outputs": [
    {
     "name": "stdout",
     "output_type": "stream",
     "text": [
      "500\n",
      "Hive initialized!\n"
     ]
    }
   ],
   "source": [
    "%load_ext bigdata\n",
    "%timeout 500\n",
    "%hive_init"
   ]
  },
  {
   "cell_type": "markdown",
   "metadata": {},
   "source": [
    "---"
   ]
  },
  {
   "cell_type": "markdown",
   "metadata": {},
   "source": [
    "## WordCount"
   ]
  },
  {
   "cell_type": "code",
   "execution_count": 2,
   "metadata": {},
   "outputs": [],
   "source": [
    "%%hive\n",
    "DROP TABLE IF EXISTS docs;\n",
    "DROP TABLE IF EXISTS word_counts;\n",
    "\n",
    "CREATE TABLE docs (line STRING);\n",
    "\n",
    "LOAD DATA LOCAL INPATH \n",
    "    'files/wordcount' \n",
    "OVERWRITE INTO TABLE docs;\n",
    "\n",
    "CREATE TABLE word_counts \n",
    "AS\n",
    "    SELECT word, count(1) AS count \n",
    "    FROM\n",
    "        (SELECT explode(split(line, '\\\\s')) AS word FROM docs) w\n",
    "GROUP BY \n",
    "    word\n",
    "ORDER BY \n",
    "    word;\n",
    "\n",
    "SELECT * FROM word_counts LIMIT 10;"
   ]
  },
  {
   "cell_type": "code",
   "execution_count": 4,
   "metadata": {},
   "outputs": [],
   "source": [
    "%%hive\n",
    "SELECT * FROM word_counts LIMIT 10;"
   ]
  },
  {
   "cell_type": "markdown",
   "metadata": {},
   "source": [
    "---"
   ]
  }
 ],
 "metadata": {
  "kernelspec": {
   "display_name": "Python 3",
   "language": "python",
   "name": "python3"
  },
  "language_info": {
   "codemirror_mode": {
    "name": "ipython",
    "version": 3
   },
   "file_extension": ".py",
   "mimetype": "text/x-python",
   "name": "python",
   "nbconvert_exporter": "python",
   "pygments_lexer": "ipython3",
   "version": "3.7.0"
  },
  "toc": {
   "base_numbering": 1,
   "nav_menu": {},
   "number_sections": false,
   "sideBar": true,
   "skip_h1_title": false,
   "title_cell": "Table of Contents",
   "title_sidebar": "Contents",
   "toc_cell": false,
   "toc_position": {},
   "toc_section_display": true,
   "toc_window_display": true
  }
 },
 "nbformat": 4,
 "nbformat_minor": 2
}
