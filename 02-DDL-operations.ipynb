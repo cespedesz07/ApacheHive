{
 "cells": [
  {
   "cell_type": "markdown",
   "metadata": {},
   "source": [
    "Lenguaje de Definición de Datos\n",
    "==="
   ]
  },
  {
   "cell_type": "code",
   "execution_count": 1,
   "metadata": {},
   "outputs": [
    {
     "name": "stdout",
     "output_type": "stream",
     "text": [
      "Hive initialized!\n"
     ]
    }
   ],
   "source": [
    "%load_ext bigdata\n",
    "%hive_init"
   ]
  },
  {
   "cell_type": "code",
   "execution_count": 2,
   "metadata": {},
   "outputs": [],
   "source": [
    "%%hive\n",
    "-- prepara la db \n",
    "DROP DATABASE IF EXISTS DDLdb CASCADE;"
   ]
  },
  {
   "cell_type": "markdown",
   "metadata": {},
   "source": [
    "---"
   ]
  },
  {
   "cell_type": "markdown",
   "metadata": {},
   "source": [
    "## CREATE DATABASE\n",
    "\n",
    "    CREATE (DATABASE|SCHEMA) [IF NOT EXISTS] database_name\n",
    "       [COMMENT database_comment]\n",
    "       [LOCATION hdfs_path]\n",
    "       [WITH DBPROPERTIES (property_name=property_value, ...)];"
   ]
  },
  {
   "cell_type": "code",
   "execution_count": 3,
   "metadata": {
    "scrolled": true
   },
   "outputs": [],
   "source": [
    "%%hive\n",
    "-- \n",
    "-- Crea la base de datos DDLdb\n",
    "--\n",
    "CREATE DATABASE DDLdb;"
   ]
  },
  {
   "cell_type": "code",
   "execution_count": 4,
   "metadata": {
    "scrolled": false
   },
   "outputs": [],
   "source": [
    "%%hive\n",
    "--\n",
    "-- crea la base de datos DDLdb únicamente si no existe\n",
    "-- (note que aparece un warning)\n",
    "--\n",
    "CREATE DATABASE IF NOT EXISTS DDLdb COMMENT 'Database de prueba';"
   ]
  },
  {
   "cell_type": "markdown",
   "metadata": {},
   "source": [
    "---\n",
    "**Ejercicio.--** Describa el efecto del siguiente comando:\n",
    "  \n",
    "     CREATE DATABASE demo LOCATION ~/temp/directory ;\n",
    "     \n",
    "---"
   ]
  },
  {
   "cell_type": "markdown",
   "metadata": {},
   "source": [
    "## SHOW DATABASES"
   ]
  },
  {
   "cell_type": "code",
   "execution_count": 5,
   "metadata": {
    "scrolled": false
   },
   "outputs": [
    {
     "name": "stdout",
     "output_type": "stream",
     "text": [
      "ddldb\n",
      "default\n",
      "sqldb\n"
     ]
    }
   ],
   "source": [
    "%%hive\n",
    "--\n",
    "-- muestra las bases de datos existentes\n",
    "-- \n",
    "SHOW DATABASES;"
   ]
  },
  {
   "cell_type": "code",
   "execution_count": 6,
   "metadata": {},
   "outputs": [
    {
     "name": "stdout",
     "output_type": "stream",
     "text": [
      "ddldb\n",
      "default\n"
     ]
    }
   ],
   "source": [
    "%%hive\n",
    "SHOW DATABASES LIKE 'd*';"
   ]
  },
  {
   "cell_type": "markdown",
   "metadata": {},
   "source": [
    "## USE"
   ]
  },
  {
   "cell_type": "code",
   "execution_count": 7,
   "metadata": {},
   "outputs": [],
   "source": [
    "%%hive\n",
    "--\n",
    "-- Se conecta a la base de datos llamada DDLdb\n",
    "--\n",
    "USE DDLdb;"
   ]
  },
  {
   "cell_type": "markdown",
   "metadata": {},
   "source": [
    "---\n",
    "**Ejercicio.--** Cuál es el resultado de los siguientes comandos:\n",
    "\n",
    "    DESCRIBE DATABASE DDLdb;\n",
    "    \n",
    "    DESCRIBE DATABASE EXTENDED DDLdb;\n",
    "    \n",
    "---"
   ]
  },
  {
   "cell_type": "markdown",
   "metadata": {},
   "source": [
    "## DROP DATABASE\n",
    "\n",
    "    DROP (DATABASE|SCHEMA) [IF EXISTS] database_name [RESTRICT|CASCADE];\n",
    "    \n",
    "Por defecto se usa RESTRICT; esta opción genera un error si la base de datos no esta vacía. Si desea borrar también las tablas use la opción CASCADE.   "
   ]
  },
  {
   "cell_type": "code",
   "execution_count": 8,
   "metadata": {
    "scrolled": true
   },
   "outputs": [
    {
     "name": "stdout",
     "output_type": "stream",
     "text": [
      "default\n",
      "sqldb\n"
     ]
    }
   ],
   "source": [
    "%%hive\n",
    "--\n",
    "-- Borra la base de datos\n",
    "--\n",
    "DROP DATABASE IF EXISTS DDLdb CASCADE;\n",
    "SHOW DATABASES;"
   ]
  },
  {
   "cell_type": "markdown",
   "metadata": {},
   "source": [
    "---\n",
    "**Ejercicio.--** Cuál es el significado de la opción CASCADE?.\n",
    "\n",
    "**Ejercicio.--** Cree las bases de datos llamadas db1 y db2.\n",
    "\n",
    "**Ejercicio.--** Conectese a la base de datos db1.\n",
    "\n",
    "**Ejercicio.--** Conectese a la base de datos db2.\n",
    "\n",
    "**Ejercicio.--** Borre las bases de datos db1 y db2.\n",
    "\n",
    "---"
   ]
  },
  {
   "cell_type": "markdown",
   "metadata": {},
   "source": [
    "Las bases de datos se componen de tablas relacionadas por uno o mas campos, lo que permite gestionar diferentes fuentes de información.\n",
    "\n",
    "A continuación se presentan algunas funciones necesarias para la gestión de tablas:"
   ]
  },
  {
   "cell_type": "markdown",
   "metadata": {},
   "source": [
    "## CREATE TABLE\n",
    "\n",
    "\n",
    "* Forma 1:\n",
    "\n",
    "      CREATE [TEMPORARY] [EXTERNAL] TABLE [IF NOT EXISTS] [db_name.]table_name    \n",
    "        [(col_name data_type [COMMENT col_comment], ... [constraint_specification])]\n",
    "        [COMMENT table_comment]\n",
    "        [PARTITIONED BY (col_name data_type [COMMENT col_comment], ...)]\n",
    "        [CLUSTERED BY (col_name, col_name, ...) [SORTED BY (col_name [ASC|DESC], ...)] \n",
    "          INTO num_buckets BUCKETS]\n",
    "        [SKEWED BY (col_name, col_name, ...)\n",
    "           ON ((col_value, col_value, ...), (col_value, col_value, ...), ...)\n",
    "           [STORED AS DIRECTORIES]\n",
    "        [\n",
    "          [ROW FORMAT row_format] \n",
    "          [STORED AS file_format]\n",
    "             | STORED BY 'storage.handler.class.name' [WITH SERDEPROPERTIES (...)]  \n",
    "        ]\n",
    "        [LOCATION hdfs_path]\n",
    "        [TBLPROPERTIES (property_name=property_value, ...)]  \n",
    "        [AS select_statement];\n",
    " \n",
    " \n",
    "* Forma 2:\n",
    "\n",
    "      CREATE [TEMPORARY] [EXTERNAL] TABLE [IF NOT EXISTS] [db_name.]table_name\n",
    "      LIKE existing_table_or_view_name\n",
    "      [LOCATION hdfs_path];\n",
    " \n",
    "Detalles:  https://cwiki.apache.org/confluence/display/Hive/LanguageManual+DDL#LanguageManualDDL-Create/Drop/Alter/UseDatabase\n",
    " \n",
    " "
   ]
  },
  {
   "cell_type": "code",
   "execution_count": 9,
   "metadata": {},
   "outputs": [],
   "source": [
    "%%hive\n",
    "DROP DATABASE IF EXISTS DDLdb CASCADE;\n",
    "CREATE DATABASE DDLdb;\n",
    "USE DDLdb;"
   ]
  },
  {
   "cell_type": "code",
   "execution_count": 10,
   "metadata": {},
   "outputs": [],
   "source": [
    "%%hive\n",
    "--\n",
    "-- crea la tabla\n",
    "--\n",
    "CREATE TABLE persons (\n",
    "    id INT,\n",
    "    firstname VARCHAR(10),\n",
    "    surname VARCHAR(10),\n",
    "    birthday TIMESTAMP,\n",
    "    color VARCHAR(9),\n",
    "    quantity INT\n",
    "    );"
   ]
  },
  {
   "cell_type": "markdown",
   "metadata": {},
   "source": [
    "---\n",
    "**Ejercicio.--** Describa que devuelve el comando:\n",
    "\n",
    "    SHOW TABLES;\n",
    "    \n",
    "**Ejercicio.--** Describa que devuelve el comando:\n",
    "\n",
    "    SHOW CREATE TABLE persons;\n",
    "    \n",
    "**Ejercicio.--** Describa que devuelve el comando:\n",
    "\n",
    "    DESCRIBE persons;\n",
    "    \n",
    "    \n",
    "**Ejercicio.--** Cuáles son los siguientes tipos de datos? Existen en MySQL?\n",
    "\n",
    "* `STRUCT`\n",
    "\n",
    "\n",
    "* `MAP`\n",
    "\n",
    "\n",
    "* `ARRAY`\n",
    "\n",
    "**Ejercicio.--** De ejemplos de uso de los tipos de datos anteriores.\n",
    "\n",
    "\n",
    "---"
   ]
  },
  {
   "cell_type": "code",
   "execution_count": 11,
   "metadata": {},
   "outputs": [],
   "source": [
    "%%hive\n",
    "CREATE TABLE persons1 (\n",
    "    id INT,\n",
    "    firstname VARCHAR(10),\n",
    "    surname VARCHAR(10),\n",
    "    birthday TIMESTAMP,\n",
    "    color VARCHAR(9),\n",
    "    quantity INT)\n",
    "COMMENT 'Esta es mi primera tabla'\n",
    "ROW FORMAT DELIMITED\n",
    "FIELDS TERMINATED BY ';'\n",
    "LINES TERMINATED BY '\\n'\n",
    "STORED AS TEXTFILE;"
   ]
  },
  {
   "cell_type": "markdown",
   "metadata": {},
   "source": [
    "---\n",
    "**Ejercicio.--** Donde se almacenó la tabla anteior?\n",
    "\n",
    "\n",
    "**Ejercicio.--** Cuál es el resultado del comando:\n",
    "\n",
    "     SHOW TBLPROPERTIES persons1\n",
    "\n",
    "---\n"
   ]
  },
  {
   "cell_type": "markdown",
   "metadata": {},
   "source": [
    "## LIKE"
   ]
  },
  {
   "cell_type": "markdown",
   "metadata": {},
   "source": [
    "`LIKE`  permite copiar la estructura de una tabla (pero no sus datos)."
   ]
  },
  {
   "cell_type": "code",
   "execution_count": 12,
   "metadata": {},
   "outputs": [],
   "source": [
    "%%hive\n",
    "CREATE TABLE IF NOT EXISTS DDLdb.persons2 LIKE persons;"
   ]
  },
  {
   "cell_type": "code",
   "execution_count": 13,
   "metadata": {},
   "outputs": [
    {
     "name": "stdout",
     "output_type": "stream",
     "text": [
      "persons\n",
      "persons1\n",
      "persons2\n"
     ]
    }
   ],
   "source": [
    "%%hive\n",
    "SHOW TABLES IN DDLdb;"
   ]
  },
  {
   "cell_type": "markdown",
   "metadata": {},
   "source": [
    "## ALTER TABLE\n",
    "\n",
    "    ALTER TABLE table_name RENAME TO new_table_name;\n",
    "\n",
    "    ALTER TABLE table_name ADD COLUMNS (col_name data_type [COMMENT col_comment], ...)\n",
    "\n",
    "    ALTER TABLE table_name REPLACE COLUMNS (col_name data_type [COMMENT col_comment], ...)\n"
   ]
  },
  {
   "cell_type": "code",
   "execution_count": 14,
   "metadata": {},
   "outputs": [
    {
     "name": "stdout",
     "output_type": "stream",
     "text": [
      "id                  \tint                 \t                    \n",
      "firstname           \tvarchar(10)         \t                    \n",
      "surname             \tvarchar(10)         \t                    \n",
      "birthday            \ttimestamp           \t                    \n",
      "color               \tvarchar(9)          \t                    \n",
      "quantity            \tint                 \t                    \n",
      "state               \tvarchar(8)          \t                    \n"
     ]
    }
   ],
   "source": [
    "%%hive\n",
    "-- \n",
    "-- Agrega una nueva columna especificando su posición.\n",
    "--\n",
    "ALTER TABLE persons ADD COLUMNS (state VARCHAR(8));\n",
    "DESCRIBE persons;"
   ]
  },
  {
   "cell_type": "markdown",
   "metadata": {},
   "source": [
    "---\n",
    "**Ejercicio.--** Cuál es el resultado de los siguientes comandos?\n",
    "\n",
    "     DESCRIBE persons;\n",
    "     \n",
    "     DESCRIBE EXTENDED persons;\n",
    "     \n",
    "     DESCRIBE FORMATED persons;\n",
    "     \n",
    "---"
   ]
  },
  {
   "cell_type": "code",
   "execution_count": 15,
   "metadata": {},
   "outputs": [
    {
     "name": "stdout",
     "output_type": "stream",
     "text": [
      "id                  \tint                 \t                    \n",
      "firstname           \tvarchar(12)         \t                    \n",
      "surname             \tvarchar(10)         \t                    \n",
      "birthday            \ttimestamp           \t                    \n",
      "color               \tvarchar(9)          \t                    \n",
      "quantity            \tint                 \t                    \n",
      "state               \tvarchar(8)          \t                    \n"
     ]
    }
   ],
   "source": [
    "%%hive\n",
    "-- \n",
    "-- Modifica el tipo de campo de una columna.\n",
    "--\n",
    "ALTER TABLE \n",
    "    persons \n",
    "CHANGE \n",
    "    firstname firstname VARCHAR(12);\n",
    "DESCRIBE persons;"
   ]
  },
  {
   "cell_type": "code",
   "execution_count": 16,
   "metadata": {
    "scrolled": true
   },
   "outputs": [
    {
     "name": "stdout",
     "output_type": "stream",
     "text": [
      "id                  \tint                 \t                    \n",
      "firstname           \tvarchar(10)         \t                    \n"
     ]
    }
   ],
   "source": [
    "%%hive\n",
    "--\n",
    "-- Borra columnas.\n",
    "--\n",
    "ALTER TABLE \n",
    "    persons \n",
    "REPLACE COLUMNS \n",
    "    (id INT, \n",
    "     firstname VARCHAR(10));\n",
    "DESCRIBE persons;"
   ]
  },
  {
   "cell_type": "code",
   "execution_count": 17,
   "metadata": {
    "scrolled": false
   },
   "outputs": [],
   "source": [
    "%%hive\n",
    "--\n",
    "-- Borrado de tablas:\n",
    "--\n",
    "DROP TABLE IF EXISTS persons;\n",
    "DROP TABLE IF EXISTS persons1;\n",
    "DROP TABLE IF EXISTS persons2;"
   ]
  },
  {
   "cell_type": "markdown",
   "metadata": {},
   "source": [
    "## EXTERNAL TABLES\n",
    "\n",
    "Las tablas creadas hasta el momento son completamente manejadas por `Hive` y almacenadas en el directorio especificado en la propiedad `hive.metastore.warehouse.dir` del archivo `hive-site.xml`. Sin embargo, estas tablas no son convenientes para compartir directamente información con otras aplicaciones, ya que `Hive` administra los datos. Para analizar info generada por otras aplicaciones resulta más conveniente usar tablas externas. A continuación se presentan dos ejemplos:\n",
    "\n",
    "    CREATE EXTERNAL TABLE IF NOT EXISTS db.table1 \n",
    "    LIKE db.table\n",
    "    LOCATION '/path/to/data';\n",
    "    \n",
    "    CREATE EXTERNAL TABLE IF NOT EXISTS table1 (\n",
    "       col1 STRING,\n",
    "       col2 STRING)\n",
    "    ROW FORMAT DELIMITED FIELDS TERMINATED BY ',' \n",
    "    LOCATION '/path/to/data';"
   ]
  },
  {
   "cell_type": "markdown",
   "metadata": {},
   "source": [
    "## TABLAS PARTICIONADAS\n",
    "\n",
    "Permiten dividir físicamente los datos para agilizar procesos de búsqueda y gestión de información. Por ejemplo:\n",
    "\n",
    "    CREATE TABLE IF NOT EXISTS table (\n",
    "       col1 STRING,\n",
    "       col2 STRING,\n",
    "       col3 STRING)\n",
    "    PARTITIONED BY (col4 STRING, col5 STRING);\n",
    "    \n",
    "---\n",
    "**Ejercicio.--** Cómo cambia la estrucutura en disco para una tabla particionada?\n",
    "\n",
    "---\n",
    "\n",
    "Para ver las particiones:\n",
    "\n",
    "    SHOW PARTITIONS table;\n",
    "    \n",
    "    SHOW PARTITIONS table PARTITION (col4='x');\n",
    "    \n",
    "    \n",
    "Las particiones también pueden crearse después de haber creado la tabla.\n",
    "\n",
    "    ALTER TABLE table ADD PARTITION(col5 = xxx, col6 = xxxx)\n",
    "    LOCATION '/path/to/data';\n",
    "    \n",
    "La partición también puede lograrse al momento de cargar los datos:\n",
    "\n",
    "    LOAD DATA INPATH 'path/to/data'\n",
    "    INTO TABLE table\n",
    "    PARTITION(col4 = val, col5 = val);\n",
    "    \n",
    "También es posible usar este tipo de tablas con fuentes externas:\n",
    "\n",
    "    CREATE EXTERNAL TABLE IF NOT EXISTS table1 (\n",
    "       col1 STRING,\n",
    "       col2 STRING)\n",
    "    PARTITIONED BY (col3 INT)\n",
    "    ROW FORMAT DELIMITED FIELDS TERMINATED BY ',' \n",
    "    LOCATION '/path/to/data';"
   ]
  },
  {
   "cell_type": "markdown",
   "metadata": {},
   "source": [
    "---"
   ]
  }
 ],
 "metadata": {
  "kernelspec": {
   "display_name": "Python 3",
   "language": "python",
   "name": "python3"
  },
  "language_info": {
   "codemirror_mode": {
    "name": "ipython",
    "version": 3
   },
   "file_extension": ".py",
   "mimetype": "text/x-python",
   "name": "python",
   "nbconvert_exporter": "python",
   "pygments_lexer": "ipython3",
   "version": "3.7.0"
  },
  "toc": {
   "base_numbering": 1,
   "nav_menu": {},
   "number_sections": false,
   "sideBar": true,
   "skip_h1_title": false,
   "title_cell": "Table of Contents",
   "title_sidebar": "Contents",
   "toc_cell": false,
   "toc_position": {},
   "toc_section_display": true,
   "toc_window_display": true
  },
  "toc-autonumbering": false
 },
 "nbformat": 4,
 "nbformat_minor": 2
}
