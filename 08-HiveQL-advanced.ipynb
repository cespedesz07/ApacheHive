{
 "cells": [
  {
   "cell_type": "markdown",
   "metadata": {},
   "source": [
    "Consultas -- Avanzado\n",
    "==="
   ]
  },
  {
   "cell_type": "code",
   "execution_count": 1,
   "metadata": {},
   "outputs": [
    {
     "name": "stdout",
     "output_type": "stream",
     "text": [
      "Hive initialized!\n"
     ]
    }
   ],
   "source": [
    "%load_ext bigdata\n",
    "%hive_init"
   ]
  },
  {
   "cell_type": "code",
   "execution_count": 2,
   "metadata": {},
   "outputs": [],
   "source": [
    "%%hive\n",
    "DROP DATABASE IF EXISTS SQLdb CASCADE;\n",
    "CREATE DATABASE SQLdb;\n",
    "USE SQLdb;\n",
    "\n",
    "CREATE TABLE persons (\n",
    "    id INT,\n",
    "    firstname VARCHAR(10),\n",
    "    surname VARCHAR(10),\n",
    "    birthday DATE,\n",
    "    color VARCHAR(10),\n",
    "    quantity INT\n",
    ");\n",
    "\n",
    "INSERT INTO persons VALUES\n",
    "    (1,\"Vivian\",\"Hamilton\",\"1971-07-08\",\"green\",1),\n",
    "    (2,\"Karen\",\"Holcomb\",\"1974-05-23\",\"green\",4),\n",
    "    (3,\"Cody\",\"Garrett\",\"1973-04-22\",\"orange\",1),\n",
    "    (4,\"Roth\",\"Fry\",\"1975-01-29\",\"black\",1),\n",
    "    (5,\"Zoe\",\"Conway\",\"1974-07-03\",\"blue\",2),\n",
    "    (6,\"Gretchen\",\"Kinney\",\"1974-10-18\",\"violet\",1),\n",
    "    (7,\"Driscoll\",\"Klein\",\"1970-10-05\",\"blue\",5),\n",
    "    (8,\"Karyn\",\"Diaz\",\"1969-02-24\",\"red\",1),\n",
    "    (9,\"Merritt\",\"Guy\",\"1974-10-17\",\"indigo\",4),\n",
    "    (10,\"Kylan\",\"Sexton\",\"1975-02-28\",\"black\",4),\n",
    "    (11,\"Jordan\",\"Estes\",\"1969-12-07\",\"indigo\",4),\n",
    "    (12,\"Hope\",\"Coffey\",\"1973-12-24\",\"green\",5),\n",
    "    (13,\"Vivian\",\"Crane\",\"1970-08-27\",\"gray\",5),\n",
    "    (14,\"Clio\",\"Noel\",\"1972-12-12\",\"red\",5),\n",
    "    (15,\"Hope\",\"Silva\",\"1970-07-01\",\"blue\",5),\n",
    "    (16,\"Ayanna\",\"Jarvis\",\"1974-02-11\",\"orange\",5),\n",
    "    (17,\"Chanda\",\"Boyer\",\"1973-04-01\",\"green\",4),\n",
    "    (18,\"Chadwick\",\"Knight\",\"1973-04-29\",\"yellow\",1);\n"
   ]
  },
  {
   "cell_type": "markdown",
   "metadata": {},
   "source": [
    "---"
   ]
  },
  {
   "cell_type": "markdown",
   "metadata": {},
   "source": [
    "## Strings"
   ]
  },
  {
   "cell_type": "markdown",
   "metadata": {},
   "source": [
    "### CONCAT()"
   ]
  },
  {
   "cell_type": "code",
   "execution_count": 3,
   "metadata": {},
   "outputs": [
    {
     "name": "stdout",
     "output_type": "stream",
     "text": [
      "Vivian@Hamilton\t1\n",
      "Karen@Holcomb\t4\n",
      "Cody@Garrett\t1\n",
      "Roth@Fry\t1\n",
      "Zoe@Conway\t2\n",
      "Gretchen@Kinney\t1\n",
      "Driscoll@Klein\t5\n",
      "Karyn@Diaz\t1\n",
      "Merritt@Guy\t4\n",
      "Kylan@Sexton\t4\n",
      "Jordan@Estes\t4\n",
      "Hope@Coffey\t5\n",
      "Vivian@Crane\t5\n",
      "Clio@Noel\t5\n",
      "Hope@Silva\t5\n",
      "Ayanna@Jarvis\t5\n",
      "Chanda@Boyer\t4\n",
      "Chadwick@Knight\t1\n"
     ]
    }
   ],
   "source": [
    "%%hive\n",
    "SELECT \n",
    "    CONCAT(firstname,'@',surname),  \n",
    "    quantity \n",
    "FROM \n",
    "    persons;"
   ]
  },
  {
   "cell_type": "markdown",
   "metadata": {},
   "source": [
    "### LENGTH()"
   ]
  },
  {
   "cell_type": "code",
   "execution_count": 4,
   "metadata": {},
   "outputs": [
    {
     "name": "stdout",
     "output_type": "stream",
     "text": [
      "Hamilton\t8\t8\n",
      "Holcomb\t7\t7\n",
      "Garrett\t7\t7\n",
      "Fry\t3\t3\n",
      "Conway\t6\t6\n"
     ]
    }
   ],
   "source": [
    "%%hive\n",
    "SELECT surname, LENGTH(surname), CHAR_LENGTH(surname) FROM persons LIMIT 5;"
   ]
  },
  {
   "cell_type": "markdown",
   "metadata": {},
   "source": [
    "### UPPER(), LOWER()"
   ]
  },
  {
   "cell_type": "code",
   "execution_count": 5,
   "metadata": {},
   "outputs": [
    {
     "name": "stdout",
     "output_type": "stream",
     "text": [
      "Hamilton\tHAMILTON\thamilton\n",
      "Holcomb\tHOLCOMB\tholcomb\n",
      "Garrett\tGARRETT\tgarrett\n",
      "Fry\tFRY\tfry\n",
      "Conway\tCONWAY\tconway\n"
     ]
    }
   ],
   "source": [
    "%%hive\n",
    "SELECT surname, UPPER(surname), LOWER(surname) FROM persons LIMIT 5;"
   ]
  },
  {
   "cell_type": "code",
   "execution_count": 6,
   "metadata": {},
   "outputs": [
    {
     "name": "stdout",
     "output_type": "stream",
     "text": [
      "Hamilton\tfalse\n",
      "Holcomb\tfalse\n",
      "Garrett\tfalse\n",
      "Fry\tfalse\n",
      "Conway\tfalse\n"
     ]
    }
   ],
   "source": [
    "%%hive\n",
    "--\n",
    "-- Condicional para strings\n",
    "--\n",
    "SELECT surname, surname BETWEEN 'c' AND 'k' FROM persons LIMIT 5;"
   ]
  },
  {
   "cell_type": "markdown",
   "metadata": {},
   "source": [
    "### LIKE"
   ]
  },
  {
   "cell_type": "markdown",
   "metadata": {},
   "source": [
    "La función LIKE permite buscar patrones específicos dentro de cadenas de caracteres.\n",
    "\n",
    "    > LIKE 'a%'   : Encuentra los valores que inician con 'a'\n",
    "    > LIKE '%a'   : Encuentra los valores que terminan con 'a'\n",
    "    > LIKE '%a%'  : Encuentra los valores que contengan 'a' en cualquier posición\n",
    "    > LIKE '_a%'  : Encuentra los valores que contengan 'a' en la segunda posición\n",
    "    > LIKE 'a_%_%': Encuentra los valores que inician con 'a' y tienen al menos 3 caracteres\n",
    "    > LIKE 'a%o'  : Encuentra los valores que inician con 'a' y terminan con 'o'"
   ]
  },
  {
   "cell_type": "code",
   "execution_count": 7,
   "metadata": {},
   "outputs": [
    {
     "name": "stdout",
     "output_type": "stream",
     "text": [
      "4\tRoth\tFry\t1975-01-29\tblack\t1\n",
      "5\tZoe\tConway\t1974-07-03\tblue\t2\n",
      "7\tDriscoll\tKlein\t1970-10-05\tblue\t5\n",
      "10\tKylan\tSexton\t1975-02-28\tblack\t4\n",
      "15\tHope\tSilva\t1970-07-01\tblue\t5\n"
     ]
    }
   ],
   "source": [
    "%%hive\n",
    "SELECT * FROM persons WHERE color LIKE 'b%';"
   ]
  },
  {
   "cell_type": "code",
   "execution_count": 8,
   "metadata": {},
   "outputs": [
    {
     "name": "stdout",
     "output_type": "stream",
     "text": [
      "1\tVivian\tHamilton\t1971-07-08\tgreen\t1\n",
      "2\tKaren\tHolcomb\t1974-05-23\tgreen\t4\n",
      "3\tCody\tGarrett\t1973-04-22\torange\t1\n",
      "6\tGretchen\tKinney\t1974-10-18\tviolet\t1\n",
      "8\tKaryn\tDiaz\t1969-02-24\tred\t1\n",
      "9\tMerritt\tGuy\t1974-10-17\tindigo\t4\n",
      "11\tJordan\tEstes\t1969-12-07\tindigo\t4\n",
      "12\tHope\tCoffey\t1973-12-24\tgreen\t5\n",
      "13\tVivian\tCrane\t1970-08-27\tgray\t5\n",
      "14\tClio\tNoel\t1972-12-12\tred\t5\n",
      "16\tAyanna\tJarvis\t1974-02-11\torange\t5\n",
      "17\tChanda\tBoyer\t1973-04-01\tgreen\t4\n",
      "18\tChadwick\tKnight\t1973-04-29\tyellow\t1\n"
     ]
    }
   ],
   "source": [
    "%%hive\n",
    "SELECT * FROM persons WHERE color NOT LIKE 'b%';"
   ]
  },
  {
   "cell_type": "code",
   "execution_count": 9,
   "metadata": {},
   "outputs": [
    {
     "name": "stdout",
     "output_type": "stream",
     "text": [
      "5\tZoe\tConway\t1974-07-03\tblue\t2\n"
     ]
    }
   ],
   "source": [
    "%%hive\n",
    "--\n",
    "-- Conectores lógicos (AND).\n",
    "--\n",
    "SELECT * FROM persons WHERE color = 'blue' AND firstname LIKE 'Z%';"
   ]
  },
  {
   "cell_type": "code",
   "execution_count": 10,
   "metadata": {},
   "outputs": [
    {
     "name": "stdout",
     "output_type": "stream",
     "text": [
      "2\tKaren\tHolcomb\t1974-05-23\tgreen\t4\n",
      "5\tZoe\tConway\t1974-07-03\tblue\t2\n",
      "7\tDriscoll\tKlein\t1970-10-05\tblue\t5\n",
      "8\tKaryn\tDiaz\t1969-02-24\tred\t1\n",
      "10\tKylan\tSexton\t1975-02-28\tblack\t4\n",
      "15\tHope\tSilva\t1970-07-01\tblue\t5\n"
     ]
    }
   ],
   "source": [
    "%%hive\n",
    "--\n",
    "-- Conectores lógicos (OR).\n",
    "--\n",
    "SELECT * FROM persons WHERE color = 'blue' OR firstname LIKE 'K%';"
   ]
  },
  {
   "cell_type": "code",
   "execution_count": 11,
   "metadata": {},
   "outputs": [
    {
     "name": "stdout",
     "output_type": "stream",
     "text": [
      "4\tRoth\tFry\t1975-01-29\tblack\t1\n",
      "5\tZoe\tConway\t1974-07-03\tblue\t2\n",
      "7\tDriscoll\tKlein\t1970-10-05\tblue\t5\n",
      "10\tKylan\tSexton\t1975-02-28\tblack\t4\n",
      "15\tHope\tSilva\t1970-07-01\tblue\t5\n"
     ]
    }
   ],
   "source": [
    "%%hive\n",
    "--\n",
    "-- Condicional para campos string\n",
    "--\n",
    "SELECT * FROM persons WHERE color IN ('blue','black');"
   ]
  },
  {
   "cell_type": "code",
   "execution_count": 12,
   "metadata": {},
   "outputs": [
    {
     "name": "stdout",
     "output_type": "stream",
     "text": [
      "1\tVivian\tHamilton\t1971-07-08\tgreen\t1\n",
      "2\tKaren\tHolcomb\t1974-05-23\tgreen\t4\n",
      "3\tCody\tGarrett\t1973-04-22\torange\t1\n",
      "6\tGretchen\tKinney\t1974-10-18\tviolet\t1\n",
      "8\tKaryn\tDiaz\t1969-02-24\tred\t1\n",
      "9\tMerritt\tGuy\t1974-10-17\tindigo\t4\n",
      "11\tJordan\tEstes\t1969-12-07\tindigo\t4\n",
      "12\tHope\tCoffey\t1973-12-24\tgreen\t5\n",
      "13\tVivian\tCrane\t1970-08-27\tgray\t5\n",
      "14\tClio\tNoel\t1972-12-12\tred\t5\n",
      "16\tAyanna\tJarvis\t1974-02-11\torange\t5\n",
      "17\tChanda\tBoyer\t1973-04-01\tgreen\t4\n",
      "18\tChadwick\tKnight\t1973-04-29\tyellow\t1\n"
     ]
    }
   ],
   "source": [
    "%%hive\n",
    "--\n",
    "-- Condicional para campos string\n",
    "--\n",
    "SELECT * FROM persons WHERE color NOT IN ('blue','black');"
   ]
  },
  {
   "cell_type": "markdown",
   "metadata": {},
   "source": [
    "### REGEXP"
   ]
  },
  {
   "cell_type": "code",
   "execution_count": 13,
   "metadata": {},
   "outputs": [
    {
     "name": "stdout",
     "output_type": "stream",
     "text": [
      "4\tRoth\tFry\t1975-01-29\tblack\t1\n",
      "5\tZoe\tConway\t1974-07-03\tblue\t2\n",
      "7\tDriscoll\tKlein\t1970-10-05\tblue\t5\n",
      "10\tKylan\tSexton\t1975-02-28\tblack\t4\n",
      "15\tHope\tSilva\t1970-07-01\tblue\t5\n"
     ]
    }
   ],
   "source": [
    "%%hive\n",
    "--\n",
    "-- El primer caracter es una 'b'\n",
    "--\n",
    "SELECT * FROM persons WHERE color REGEXP '^b';"
   ]
  },
  {
   "cell_type": "code",
   "execution_count": 14,
   "metadata": {},
   "outputs": [
    {
     "name": "stdout",
     "output_type": "stream",
     "text": [
      "1\tVivian\tHamilton\t1971-07-08\tgreen\t1\n",
      "2\tKaren\tHolcomb\t1974-05-23\tgreen\t4\n",
      "3\tCody\tGarrett\t1973-04-22\torange\t1\n",
      "6\tGretchen\tKinney\t1974-10-18\tviolet\t1\n",
      "8\tKaryn\tDiaz\t1969-02-24\tred\t1\n",
      "9\tMerritt\tGuy\t1974-10-17\tindigo\t4\n",
      "11\tJordan\tEstes\t1969-12-07\tindigo\t4\n",
      "12\tHope\tCoffey\t1973-12-24\tgreen\t5\n",
      "13\tVivian\tCrane\t1970-08-27\tgray\t5\n",
      "14\tClio\tNoel\t1972-12-12\tred\t5\n",
      "16\tAyanna\tJarvis\t1974-02-11\torange\t5\n",
      "17\tChanda\tBoyer\t1973-04-01\tgreen\t4\n",
      "18\tChadwick\tKnight\t1973-04-29\tyellow\t1\n"
     ]
    }
   ],
   "source": [
    "%%hive\n",
    "--\n",
    "-- El primer caracter no es una 'b'\n",
    "--\n",
    "SELECT * FROM persons WHERE color REGEXP '^[^b]';"
   ]
  },
  {
   "cell_type": "code",
   "execution_count": 15,
   "metadata": {},
   "outputs": [
    {
     "name": "stdout",
     "output_type": "stream",
     "text": [
      "1\tVivian\tHamilton\t1971-07-08\tgreen\t1\n",
      "2\tKaren\tHolcomb\t1974-05-23\tgreen\t4\n",
      "5\tZoe\tConway\t1974-07-03\tblue\t2\n",
      "7\tDriscoll\tKlein\t1970-10-05\tblue\t5\n",
      "12\tHope\tCoffey\t1973-12-24\tgreen\t5\n",
      "15\tHope\tSilva\t1970-07-01\tblue\t5\n",
      "17\tChanda\tBoyer\t1973-04-01\tgreen\t4\n"
     ]
    }
   ],
   "source": [
    "%%hive\n",
    "--\n",
    "-- \n",
    "--\n",
    "SELECT * FROM persons WHERE color REGEXP 'blue|green';"
   ]
  },
  {
   "cell_type": "code",
   "execution_count": 16,
   "metadata": {},
   "outputs": [
    {
     "name": "stdout",
     "output_type": "stream",
     "text": [
      "1\tVivian\tHamilton\t1971-07-08\tgreen\t1\n",
      "2\tKaren\tHolcomb\t1974-05-23\tgreen\t4\n",
      "3\tCody\tGarrett\t1973-04-22\torange\t1\n",
      "12\tHope\tCoffey\t1973-12-24\tgreen\t5\n",
      "13\tVivian\tCrane\t1970-08-27\tgray\t5\n",
      "16\tAyanna\tJarvis\t1974-02-11\torange\t5\n",
      "17\tChanda\tBoyer\t1973-04-01\tgreen\t4\n"
     ]
    }
   ],
   "source": [
    "%%hive\n",
    "--\n",
    "-- El segundo caracter es una 'r'\n",
    "--\n",
    "SELECT * FROM persons WHERE color REGEXP '.r';"
   ]
  },
  {
   "cell_type": "code",
   "execution_count": 17,
   "metadata": {},
   "outputs": [
    {
     "name": "stdout",
     "output_type": "stream",
     "text": [
      "3\tCody\tGarrett\t1973-04-22\torange\t1\n",
      "5\tZoe\tConway\t1974-07-03\tblue\t2\n",
      "7\tDriscoll\tKlein\t1970-10-05\tblue\t5\n",
      "9\tMerritt\tGuy\t1974-10-17\tindigo\t4\n",
      "11\tJordan\tEstes\t1969-12-07\tindigo\t4\n",
      "15\tHope\tSilva\t1970-07-01\tblue\t5\n",
      "16\tAyanna\tJarvis\t1974-02-11\torange\t5\n"
     ]
    }
   ],
   "source": [
    "%%hive\n",
    "--\n",
    "-- Finaliza en una vocal\n",
    "--\n",
    "SELECT * FROM persons WHERE color REGEXP '[aeiou]$';"
   ]
  },
  {
   "cell_type": "code",
   "execution_count": 18,
   "metadata": {},
   "outputs": [
    {
     "name": "stdout",
     "output_type": "stream",
     "text": [
      "8\tKaryn\tDiaz\t1969-02-24\tred\t1\n",
      "14\tClio\tNoel\t1972-12-12\tred\t5\n"
     ]
    }
   ],
   "source": [
    "%%hive\n",
    "--\n",
    "-- Inicia con una mayúscula\n",
    "-- REVISAR: HIVE PARECE NO RECIBIR CAMPOS COMO MySQL\n",
    "--\n",
    "SELECT * FROM persons WHERE color REGEXP '^[[:upper:]]';"
   ]
  },
  {
   "cell_type": "markdown",
   "metadata": {},
   "source": [
    "### MID(), SUBSTRING()"
   ]
  },
  {
   "cell_type": "code",
   "execution_count": 19,
   "metadata": {},
   "outputs": [
    {
     "name": "stdout",
     "output_type": "stream",
     "text": [
      "Vivian\tVi\tvi\tian\n",
      "Karen\tKa\tre\tren\n",
      "Cody\tCo\tdy\tody\n",
      "Roth\tRo\tth\toth\n",
      "Zoe\tZo\te\tZoe\n",
      "Gretchen\tGr\tet\then\n",
      "Driscoll\tDr\tis\toll\n",
      "Karyn\tKa\try\tryn\n",
      "Merritt\tMe\trr\titt\n",
      "Kylan\tKy\tla\tlan\n",
      "Jordan\tJo\trd\tdan\n",
      "Hope\tHo\tpe\tope\n",
      "Vivian\tVi\tvi\tian\n",
      "Clio\tCl\tio\tlio\n",
      "Hope\tHo\tpe\tope\n",
      "Ayanna\tAy\tan\tnna\n",
      "Chanda\tCh\tan\tnda\n",
      "Chadwick\tCh\tad\tick\n"
     ]
    }
   ],
   "source": [
    "%%hive\n",
    "--\n",
    "--\n",
    "--\n",
    "SELECT \n",
    "    firstname, \n",
    "    SUBSTRING(firstname, 0, 2), -- LEFT()\n",
    "    SUBSTRING(firstname, 3, 2), \n",
    "    SUBSTRING(firstname, -3)    -- RIGHT()\n",
    "FROM \n",
    "    persons;"
   ]
  },
  {
   "cell_type": "code",
   "execution_count": 20,
   "metadata": {},
   "outputs": [
    {
     "name": "stdout",
     "output_type": "stream",
     "text": [
      "Vivian\tVivi\tn\n",
      "Karen\tK\tren\n",
      "Cody\tCody\tCody\n",
      "Roth\tRoth\tRoth\n",
      "Zoe\tZoe\tZoe\n",
      "Gretchen\tGretchen\tGretchen\n",
      "Driscoll\tDriscoll\tDriscoll\n",
      "Karyn\tK\tryn\n",
      "Merritt\tMerritt\tMerritt\n",
      "Kylan\tKyl\tn\n",
      "Jordan\tJord\tn\n",
      "Hope\tHope\tHope\n",
      "Vivian\tVivi\tn\n",
      "Clio\tClio\tClio\n",
      "Hope\tHope\tHope\n",
      "Ayanna\tAy\t\n",
      "Chanda\tCh\t\n",
      "Chadwick\tCh\tdwick\n"
     ]
    }
   ],
   "source": [
    "%%hive\n",
    "--\n",
    "-- Por posición\n",
    "--\n",
    "SELECT  \n",
    "    firstname,\n",
    "    SUBSTRING_INDEX(firstname, 'a', 1),\n",
    "    SUBSTRING_INDEX(firstname, 'a', -1)\n",
    "FROM \n",
    "    persons;"
   ]
  },
  {
   "cell_type": "code",
   "execution_count": 21,
   "metadata": {},
   "outputs": [],
   "source": [
    "%%hive\n",
    "--\n",
    "-- Operadores relacionales con strings\n",
    "-- Estas comparaciones no funcionan con Hive\n",
    "--\n",
    "SELECT firstname FROM persons WHERE SUBSTRING(firstname, 0, 1) >= 'm';"
   ]
  },
  {
   "cell_type": "markdown",
   "metadata": {},
   "source": [
    "### LOCATE()"
   ]
  },
  {
   "cell_type": "code",
   "execution_count": 22,
   "metadata": {},
   "outputs": [
    {
     "name": "stdout",
     "output_type": "stream",
     "text": [
      "Vivian\t4\n",
      "Karen\t0\n",
      "Cody\t0\n",
      "Roth\t0\n",
      "Zoe\t0\n",
      "Gretchen\t0\n",
      "Driscoll\t0\n",
      "Karyn\t0\n",
      "Merritt\t0\n",
      "Kylan\t0\n",
      "Jordan\t0\n",
      "Hope\t0\n",
      "Vivian\t4\n",
      "Clio\t0\n",
      "Hope\t0\n",
      "Ayanna\t0\n",
      "Chanda\t0\n",
      "Chadwick\t0\n"
     ]
    }
   ],
   "source": [
    "%%hive\n",
    "--\n",
    "-- Retorna la posición del substring\n",
    "--\n",
    "SELECT firstname, LOCATE('ia', firstname) FROM persons;"
   ]
  },
  {
   "cell_type": "markdown",
   "metadata": {},
   "source": [
    "## Fecha y hora"
   ]
  },
  {
   "cell_type": "markdown",
   "metadata": {},
   "source": [
    "### DATE_FORMAT()"
   ]
  },
  {
   "cell_type": "code",
   "execution_count": 23,
   "metadata": {},
   "outputs": [
    {
     "name": "stdout",
     "output_type": "stream",
     "text": [
      "1971-07-08\t1971   71\n",
      "1974-05-23\t1974   74\n",
      "1973-04-22\t1973   73\n",
      "1975-01-29\t1975   75\n",
      "1974-07-03\t1974   74\n"
     ]
    }
   ],
   "source": [
    "%%hive\n",
    "--\n",
    "-- Formatos para el año\n",
    "--\n",
    "SELECT \n",
    "    birthday, \n",
    "    DATE_FORMAT(birthday, \"yyyy   yy\")\n",
    "FROM \n",
    "    persons\n",
    "LIMIT\n",
    "    5;"
   ]
  },
  {
   "cell_type": "code",
   "execution_count": 24,
   "metadata": {},
   "outputs": [
    {
     "name": "stdout",
     "output_type": "stream",
     "text": [
      "1971-07-08\tjul 07 7\n",
      "1974-05-23\tmay 05 5\n",
      "1973-04-22\tabr 04 4\n",
      "1975-01-29\tene 01 1\n",
      "1974-07-03\tjul 07 7\n"
     ]
    }
   ],
   "source": [
    "%%hive\n",
    "--\n",
    "-- Formatos para el mes\n",
    "--\n",
    "SELECT \n",
    "    birthday, \n",
    "    DATE_FORMAT(birthday, \"MMM MM M\")\n",
    "FROM \n",
    "    persons\n",
    "LIMIT\n",
    "    5;"
   ]
  },
  {
   "cell_type": "code",
   "execution_count": 25,
   "metadata": {},
   "outputs": [
    {
     "name": "stdout",
     "output_type": "stream",
     "text": [
      "1971-07-08\t08  8 jue jueves\n",
      "1974-05-23\t23  23 jue jueves\n",
      "1973-04-22\t22  22 dom domingo\n",
      "1975-01-29\t29  29 mié miércoles\n",
      "1974-07-03\t03  3 mié miércoles\n"
     ]
    }
   ],
   "source": [
    "%%hive\n",
    "--\n",
    "-- Formatos para el dia\n",
    "--\n",
    "SELECT \n",
    "    birthday, \n",
    "    DATE_FORMAT(birthday, \"dd  d EEE EEEE\")\n",
    "FROM \n",
    "    persons\n",
    "LIMIT\n",
    "    5;"
   ]
  },
  {
   "cell_type": "code",
   "execution_count": 26,
   "metadata": {},
   "outputs": [
    {
     "name": "stdout",
     "output_type": "stream",
     "text": [
      "01\t1\n",
      "02\t3\n",
      "04\t3\n",
      "05\t1\n",
      "07\t3\n",
      "08\t1\n",
      "10\t3\n",
      "12\t3\n"
     ]
    }
   ],
   "source": [
    "%%hive\n",
    "SELECT \n",
    "    month,\n",
    "    count(1) AS count\n",
    "FROM \n",
    "    (SELECT split(birthday, '-')[1] AS month FROM persons) l\n",
    "GROUP BY\n",
    "    month;"
   ]
  },
  {
   "cell_type": "markdown",
   "metadata": {},
   "source": [
    "### CURRENT_DATE(), CURRENT_TIMESTAMP()"
   ]
  },
  {
   "cell_type": "code",
   "execution_count": 27,
   "metadata": {},
   "outputs": [
    {
     "name": "stdout",
     "output_type": "stream",
     "text": [
      "2018-10-20\t2018-10-20 18:42:39.957\n"
     ]
    }
   ],
   "source": [
    "%%hive\n",
    "SELECT CURRENT_DATE(), CURRENT_TIMESTAMP();"
   ]
  },
  {
   "cell_type": "markdown",
   "metadata": {},
   "source": [
    "### YEAR(), MONTH(), DAYNAME(), ..."
   ]
  },
  {
   "cell_type": "code",
   "execution_count": 28,
   "metadata": {},
   "outputs": [
    {
     "name": "stdout",
     "output_type": "stream",
     "text": [
      "2018-08-23 14:23:18\t2018-08-23\n",
      "2016-05-14 05:45:23\t2016-05-14\n",
      "2017-07-01 11:10:45\t2017-07-01\n"
     ]
    }
   ],
   "source": [
    "%%hive\n",
    "DROP TABLE IF EXISTS tbltime; \n",
    "CREATE TABLE tbltime (ts TIMESTAMP, d DATE);\n",
    "INSERT INTO tbltime VALUES\n",
    "    (\"2018-08-23 14:23:18\", \"2018-08-23\"),\n",
    "    (\"2016-05-14 05:45:23\", \"2016-05-14\"),\n",
    "    (\"2017-07-01 11:10:45\", \"2017-07-01\");\n",
    "SELECT * FROM tbltime;"
   ]
  },
  {
   "cell_type": "code",
   "execution_count": 29,
   "metadata": {},
   "outputs": [
    {
     "name": "stdout",
     "output_type": "stream",
     "text": [
      "2018-08-23 14:23:18\t2018\t8\tago\tagosto\n",
      "2016-05-14 05:45:23\t2016\t5\tmay\tmayo\n",
      "2017-07-01 11:10:45\t2017\t7\tjul\tjulio\n"
     ]
    }
   ],
   "source": [
    "%%hive\n",
    "SELECT\n",
    "    ts,\n",
    "    YEAR(ts),\n",
    "    MONTH(ts),\n",
    "    date_format(ts, 'MMM'),\n",
    "    date_format(ts, 'MMMMM')\n",
    "FROM\n",
    "    tbltime;"
   ]
  },
  {
   "cell_type": "code",
   "execution_count": 30,
   "metadata": {},
   "outputs": [
    {
     "name": "stdout",
     "output_type": "stream",
     "text": [
      "2018-08-23 14:23:18\t23\t23\tjue\tjueves\t5\n",
      "2016-05-14 05:45:23\t14\t14\tsáb\tsábado\t7\n",
      "2017-07-01 11:10:45\t1\t1\tsáb\tsábado\t7\n"
     ]
    }
   ],
   "source": [
    "%%hive\n",
    "SELECT\n",
    "    ts,\n",
    "    DAY(ts),\n",
    "    DAYOFMONTH(ts),\n",
    "    DATE_FORMAT(ts, 'EEE'),\n",
    "    DATE_FORMAT(ts, 'EEEE'),\n",
    "    DAYOFWEEK(ts)\n",
    "FROM\n",
    "    tbltime;"
   ]
  },
  {
   "cell_type": "code",
   "execution_count": 31,
   "metadata": {},
   "outputs": [
    {
     "name": "stdout",
     "output_type": "stream",
     "text": [
      "2018-08-23 14:23:18\t14\t23\t18\n",
      "2016-05-14 05:45:23\t5\t45\t23\n",
      "2017-07-01 11:10:45\t11\t10\t45\n"
     ]
    }
   ],
   "source": [
    "%%hive\n",
    "SELECT\n",
    "    ts,\n",
    "    HOUR(ts),\n",
    "    MINUTE(ts),\n",
    "    SECOND(ts)\n",
    "FROM\n",
    "    tbltime;"
   ]
  },
  {
   "cell_type": "code",
   "execution_count": 32,
   "metadata": {},
   "outputs": [
    {
     "name": "stdout",
     "output_type": "stream",
     "text": [
      "2018-08-23 14:23:18\t2018\t8\t14\t14\t23\t18\n",
      "2016-05-14 05:45:23\t2016\t5\t5\t5\t45\t23\n",
      "2017-07-01 11:10:45\t2017\t7\t11\t11\t10\t45\n"
     ]
    }
   ],
   "source": [
    "%%hive\n",
    "SELECT\n",
    "    ts,\n",
    "    EXTRACT(YEAR FROM ts),\n",
    "    EXTRACT(MONTH FROM ts),\n",
    "    EXTRACT(HOUR FROM ts),\n",
    "    EXTRACT(HOUR FROM ts),\n",
    "    EXTRACT(MINUTE FROM ts),\n",
    "    EXTRACT(SECOND FROM ts)\n",
    "FROM\n",
    "    tbltime;"
   ]
  },
  {
   "cell_type": "markdown",
   "metadata": {},
   "source": [
    "### TIME_TO_SEC(), SEC_TO_TIME()"
   ]
  },
  {
   "cell_type": "code",
   "execution_count": 33,
   "metadata": {},
   "outputs": [],
   "source": [
    "%%hive\n",
    "-- estas funciones no existen en Hive\n",
    "-- SELECT\n",
    "--     t,\n",
    "--     TIME_TO_SEC(t),\n",
    "--     SEC_TO_TIME(TIME_TO_SEC(t))\n",
    "-- FROM\n",
    "--     tbltime;"
   ]
  },
  {
   "cell_type": "markdown",
   "metadata": {},
   "source": [
    "### FROM_DAYS(), TO_DAYS()"
   ]
  },
  {
   "cell_type": "code",
   "execution_count": 34,
   "metadata": {},
   "outputs": [],
   "source": [
    "%%hive\n",
    "-- estas funciones no existen en Hive\n",
    "-- SELECT\n",
    "--     ts,\n",
    "--     TO_DAYS(ts),\n",
    "--     FROM_DAYS(TO_DAYS(ts))\n",
    "-- FROM\n",
    "--     tbltime;"
   ]
  },
  {
   "cell_type": "markdown",
   "metadata": {},
   "source": [
    "### UNIX_TIMESTAMP, FROM_UNIXTIME()"
   ]
  },
  {
   "cell_type": "code",
   "execution_count": 35,
   "metadata": {},
   "outputs": [
    {
     "name": "stdout",
     "output_type": "stream",
     "text": [
      "2018-08-23 14:23:18\t1535034198\t2018-08-23 14:23:18\n",
      "2016-05-14 05:45:23\t1463204723\t2016-05-14 05:45:23\n",
      "2017-07-01 11:10:45\t1498907445\t2017-07-01 11:10:45\n"
     ]
    }
   ],
   "source": [
    "%%hive\n",
    "SELECT \n",
    "    ts,\n",
    "    UNIX_TIMESTAMP(ts),\n",
    "    FROM_UNIXTIME(UNIX_TIMESTAMP(ts))\n",
    "FROM\n",
    "    tbltime;"
   ]
  },
  {
   "cell_type": "markdown",
   "metadata": {},
   "source": [
    "### TIMEDIFF(), DATEDIFF(), TIMESTAMPDIFF()"
   ]
  },
  {
   "cell_type": "code",
   "execution_count": 36,
   "metadata": {},
   "outputs": [
    {
     "name": "stdout",
     "output_type": "stream",
     "text": [
      "2018-08-23\t129\n",
      "2016-05-14\t960\n",
      "2017-07-01\t547\n"
     ]
    }
   ],
   "source": [
    "%%hive\n",
    "SELECT\n",
    "    d,\n",
    "    DATEDIFF(\"2018-12-30\", d)\n",
    "FROM\n",
    "    tbltime;"
   ]
  },
  {
   "cell_type": "code",
   "execution_count": 37,
   "metadata": {},
   "outputs": [],
   "source": [
    "%%hive\n",
    "-- Esta funcion no existe en hive\n",
    "-- SELECT\n",
    "--     t,\n",
    "--     TIMEDIFF(\"23:05:18\", t)\n",
    "-- FROM\n",
    "--     tbltime;"
   ]
  },
  {
   "cell_type": "code",
   "execution_count": 38,
   "metadata": {},
   "outputs": [],
   "source": [
    "%%hive\n",
    "-- Esta funcion no existe en Hive\n",
    "-- SELECT\n",
    "--     ts,\n",
    "--     TIMESTAMPDIFF(YEAR, ts, \"2018-12-31 23:05:18\"),\n",
    "--     TIMESTAMPDIFF(MONTH, ts, \"2018-12-31 23:05:18\"),\n",
    "--     TIMESTAMPDIFF(WEEK, ts, \"2018-12-31 23:05:18\")\n",
    "-- FROM\n",
    "--     tbltime;"
   ]
  },
  {
   "cell_type": "code",
   "execution_count": 39,
   "metadata": {},
   "outputs": [
    {
     "name": "stdout",
     "output_type": "stream",
     "text": [
      "2018-08-23 14:23:18\t11263320\n",
      "2016-05-14 05:45:23\t83092795\n",
      "2017-07-01 11:10:45\t47390073\n"
     ]
    }
   ],
   "source": [
    "%%hive\n",
    "SELECT\n",
    "    ts,\n",
    "    unix_timestamp(\"2018-12-31 23:05:18\") - unix_timestamp(ts)\n",
    "FROM\n",
    "    tbltime;"
   ]
  },
  {
   "cell_type": "markdown",
   "metadata": {},
   "source": [
    "### ADDTIME()"
   ]
  },
  {
   "cell_type": "code",
   "execution_count": 40,
   "metadata": {},
   "outputs": [],
   "source": [
    "%%hive\n",
    "-- no existe en Hive\n",
    "-- SELECT\n",
    "--    t,\n",
    "--    ADDTIME(\"23:05:18\", t)\n",
    "-- FROM\n",
    "--    tbltime;"
   ]
  },
  {
   "cell_type": "code",
   "execution_count": 41,
   "metadata": {},
   "outputs": [
    {
     "name": "stdout",
     "output_type": "stream",
     "text": [
      "2018-08-23\t2018-08-26\t2018-08-20\n",
      "2016-05-14\t2016-05-17\t2016-05-11\n",
      "2017-07-01\t2017-07-04\t2017-06-28\n"
     ]
    }
   ],
   "source": [
    "%%hive\n",
    "SELECT\n",
    "    d,\n",
    "    DATE_ADD(d, 3),\n",
    "    DATE_SUB(d, 3)\n",
    "FROM\n",
    "    tbltime;"
   ]
  },
  {
   "cell_type": "code",
   "execution_count": 42,
   "metadata": {},
   "outputs": [
    {
     "name": "stdout",
     "output_type": "stream",
     "text": [
      "2017-07-01\n"
     ]
    }
   ],
   "source": [
    "%%hive\n",
    "SELECT\n",
    "    d\n",
    "FROM\n",
    "    tbltime\n",
    "WHERE \n",
    "    d BETWEEN \"2017-01-01\" AND \"2017-12-31\";"
   ]
  },
  {
   "cell_type": "markdown",
   "metadata": {},
   "source": [
    "## ORDER BY"
   ]
  },
  {
   "cell_type": "code",
   "execution_count": 43,
   "metadata": {},
   "outputs": [
    {
     "name": "stdout",
     "output_type": "stream",
     "text": [
      "4\tRoth\tFry\t1975-01-29\tblack\t1\n",
      "10\tKylan\tSexton\t1975-02-28\tblack\t4\n",
      "5\tZoe\tConway\t1974-07-03\tblue\t2\n",
      "7\tDriscoll\tKlein\t1970-10-05\tblue\t5\n",
      "15\tHope\tSilva\t1970-07-01\tblue\t5\n",
      "13\tVivian\tCrane\t1970-08-27\tgray\t5\n",
      "2\tKaren\tHolcomb\t1974-05-23\tgreen\t4\n",
      "12\tHope\tCoffey\t1973-12-24\tgreen\t5\n",
      "17\tChanda\tBoyer\t1973-04-01\tgreen\t4\n",
      "1\tVivian\tHamilton\t1971-07-08\tgreen\t1\n",
      "9\tMerritt\tGuy\t1974-10-17\tindigo\t4\n",
      "11\tJordan\tEstes\t1969-12-07\tindigo\t4\n",
      "3\tCody\tGarrett\t1973-04-22\torange\t1\n",
      "16\tAyanna\tJarvis\t1974-02-11\torange\t5\n",
      "8\tKaryn\tDiaz\t1969-02-24\tred\t1\n",
      "14\tClio\tNoel\t1972-12-12\tred\t5\n",
      "6\tGretchen\tKinney\t1974-10-18\tviolet\t1\n",
      "18\tChadwick\tKnight\t1973-04-29\tyellow\t1\n"
     ]
    }
   ],
   "source": [
    "%%hive\n",
    "SELECT * FROM persons ORDER BY color;"
   ]
  },
  {
   "cell_type": "code",
   "execution_count": 44,
   "metadata": {},
   "outputs": [
    {
     "name": "stdout",
     "output_type": "stream",
     "text": [
      "2016-05-14 05:45:23\t2016-05-14\n",
      "2017-07-01 11:10:45\t2017-07-01\n",
      "2018-08-23 14:23:18\t2018-08-23\n"
     ]
    }
   ],
   "source": [
    "%%hive\n",
    "SELECT * FROM tbltime ORDER BY ts;"
   ]
  },
  {
   "cell_type": "code",
   "execution_count": 45,
   "metadata": {},
   "outputs": [
    {
     "name": "stdout",
     "output_type": "stream",
     "text": [
      "2017-07-01 11:10:45\t2017-07-01\n",
      "2016-05-14 05:45:23\t2016-05-14\n",
      "2018-08-23 14:23:18\t2018-08-23\n"
     ]
    }
   ],
   "source": [
    "%%hive\n",
    "SELECT * FROM tbltime ORDER BY DAY(ts);"
   ]
  },
  {
   "cell_type": "code",
   "execution_count": 46,
   "metadata": {},
   "outputs": [
    {
     "name": "stdout",
     "output_type": "stream",
     "text": [
      "18\tChadwick\tKnight\t1973-04-29\tyellow\t1\n",
      "17\tChanda\tBoyer\t1973-04-01\tgreen\t4\n",
      "16\tAyanna\tJarvis\t1974-02-11\torange\t5\n",
      "15\tHope\tSilva\t1970-07-01\tblue\t5\n",
      "14\tClio\tNoel\t1972-12-12\tred\t5\n",
      "13\tVivian\tCrane\t1970-08-27\tgray\t5\n",
      "12\tHope\tCoffey\t1973-12-24\tgreen\t5\n",
      "11\tJordan\tEstes\t1969-12-07\tindigo\t4\n",
      "10\tKylan\tSexton\t1975-02-28\tblack\t4\n",
      "9\tMerritt\tGuy\t1974-10-17\tindigo\t4\n",
      "8\tKaryn\tDiaz\t1969-02-24\tred\t1\n",
      "7\tDriscoll\tKlein\t1970-10-05\tblue\t5\n",
      "6\tGretchen\tKinney\t1974-10-18\tviolet\t1\n",
      "5\tZoe\tConway\t1974-07-03\tblue\t2\n",
      "4\tRoth\tFry\t1975-01-29\tblack\t1\n",
      "3\tCody\tGarrett\t1973-04-22\torange\t1\n",
      "2\tKaren\tHolcomb\t1974-05-23\tgreen\t4\n",
      "1\tVivian\tHamilton\t1971-07-08\tgreen\t1\n"
     ]
    }
   ],
   "source": [
    "%%hive\n",
    "--\n",
    "-- Se altera el orden del ordenamiento\n",
    "-- No funciona igual que sql\n",
    "-- los resultados son diferentes\n",
    "--\n",
    "SELECT * FROM persons ORDER BY FIELD(color, 'blue');"
   ]
  },
  {
   "cell_type": "markdown",
   "metadata": {},
   "source": [
    "## GROUP BY"
   ]
  },
  {
   "cell_type": "markdown",
   "metadata": {},
   "source": [
    "### COUNT()"
   ]
  },
  {
   "cell_type": "code",
   "execution_count": 47,
   "metadata": {},
   "outputs": [
    {
     "name": "stdout",
     "output_type": "stream",
     "text": [
      "18\n"
     ]
    }
   ],
   "source": [
    "%%hive\n",
    "--\n",
    "-- Cuenta cuantos registros hay en la tabla.\n",
    "--\n",
    "SELECT COUNT(*) FROM persons;"
   ]
  },
  {
   "cell_type": "code",
   "execution_count": 48,
   "metadata": {},
   "outputs": [
    {
     "name": "stdout",
     "output_type": "stream",
     "text": [
      "1969\t2\n",
      "1970\t3\n",
      "1971\t1\n",
      "1972\t1\n",
      "1973\t4\n",
      "1974\t5\n",
      "1975\t2\n"
     ]
    }
   ],
   "source": [
    "%%hive\n",
    "--\n",
    "-- Cuenta cuantas veces aparece cada año\n",
    "-- de nacimiento en la tabla.\n",
    "--\n",
    "SELECT YEAR(birthday), COUNT(*) FROM persons GROUP BY YEAR(birthday);"
   ]
  },
  {
   "cell_type": "markdown",
   "metadata": {},
   "source": [
    "### MAX(), MIN(), SUM(), AVG()"
   ]
  },
  {
   "cell_type": "code",
   "execution_count": 49,
   "metadata": {},
   "outputs": [
    {
     "name": "stdout",
     "output_type": "stream",
     "text": [
      "black\t4\t1\t5\t2.5\n",
      "blue\t5\t2\t12\t4.0\n",
      "gray\t5\t5\t5\t5.0\n",
      "green\t5\t1\t14\t3.5\n",
      "indigo\t4\t4\t8\t4.0\n",
      "orange\t5\t1\t6\t3.0\n",
      "red\t5\t1\t6\t3.0\n",
      "violet\t1\t1\t1\t1.0\n",
      "yellow\t1\t1\t1\t1.0\n"
     ]
    }
   ],
   "source": [
    "%%hive\n",
    "SELECT \n",
    "    color,\n",
    "    MAX(quantity),\n",
    "    MIN(quantity),\n",
    "    SUM(quantity),\n",
    "    AVG(quantity)\n",
    "FROM\n",
    "    persons\n",
    "GROUP BY\n",
    "    color;"
   ]
  },
  {
   "cell_type": "code",
   "execution_count": 50,
   "metadata": {},
   "outputs": [
    {
     "name": "stdout",
     "output_type": "stream",
     "text": [
      "green\t1\n",
      "orange\t1\n",
      "black\t1\n",
      "violet\t1\n",
      "red\t1\n",
      "yellow\t1\n"
     ]
    }
   ],
   "source": [
    "%%hive\n",
    "--\n",
    "-- Selecciona los colores que tengan una cantidad\n",
    "-- igual a la minima\n",
    "--\n",
    "SELECT \n",
    "    color,\n",
    "    quantity\n",
    "FROM\n",
    "    persons\n",
    "WHERE\n",
    "    quantity = (SELECT MIN(quantity) FROM persons);"
   ]
  },
  {
   "cell_type": "markdown",
   "metadata": {},
   "source": [
    "## LEAD, LAG"
   ]
  },
  {
   "cell_type": "code",
   "execution_count": 51,
   "metadata": {},
   "outputs": [
    {
     "name": "stdout",
     "output_type": "stream",
     "text": [
      "1\t1\t2\tNULL\n",
      "2\t2\t3\t1\n",
      "3\t3\t4\t2\n",
      "4\t4\t5\t3\n",
      "5\t5\t6\t4\n",
      "6\t6\t7\t5\n",
      "7\t7\t8\t6\n",
      "8\t8\t9\t7\n",
      "9\t9\t10\t8\n",
      "10\t10\t11\t9\n",
      "11\t11\t12\t10\n",
      "12\t12\t13\t11\n",
      "13\t13\t14\t12\n",
      "14\t14\t15\t13\n",
      "15\t15\t16\t14\n",
      "16\t16\t17\t15\n",
      "17\t17\t18\t16\n",
      "18\t18\tNULL\t17\n"
     ]
    }
   ],
   "source": [
    "%%hive\n",
    "SELECT \n",
    "    id, \n",
    "    ROW_NUMBER() OVER (ORDER BY id), \n",
    "    LEAD(id) OVER (ORDER BY id), \n",
    "    LAG(id) OVER (ORDER BY id) \n",
    "FROM \n",
    "    persons;"
   ]
  },
  {
   "cell_type": "markdown",
   "metadata": {},
   "source": [
    "### FIRST_VALUE(), LAST_VALUE()"
   ]
  },
  {
   "cell_type": "code",
   "execution_count": 52,
   "metadata": {},
   "outputs": [
    {
     "name": "stdout",
     "output_type": "stream",
     "text": [
      "black\t1\n",
      "black\t4\n",
      "blue\t2\n",
      "blue\t5\n",
      "blue\t5\n",
      "gray\t5\n",
      "green\t4\n",
      "green\t5\n",
      "green\t4\n",
      "green\t1\n",
      "indigo\t4\n",
      "indigo\t4\n",
      "orange\t1\n",
      "orange\t5\n",
      "red\t1\n",
      "red\t5\n",
      "violet\t1\n",
      "yellow\t1\n"
     ]
    }
   ],
   "source": [
    "%%hive\n",
    "SELECT color, quantity FROM persons ORDER BY color;"
   ]
  },
  {
   "cell_type": "code",
   "execution_count": 53,
   "metadata": {},
   "outputs": [
    {
     "name": "stdout",
     "output_type": "stream",
     "text": [
      "black\t1\t1\t1\n",
      "black\t4\t1\t4\n",
      "blue\t2\t2\t2\n",
      "blue\t5\t2\t5\n",
      "blue\t5\t2\t5\n",
      "gray\t5\t5\t5\n",
      "green\t1\t1\t1\n",
      "green\t4\t1\t4\n",
      "green\t4\t1\t4\n",
      "green\t5\t1\t5\n",
      "indigo\t4\t4\t4\n",
      "indigo\t4\t4\t4\n",
      "orange\t1\t1\t1\n",
      "orange\t5\t1\t5\n",
      "red\t1\t1\t1\n",
      "red\t5\t1\t5\n",
      "violet\t1\t1\t1\n",
      "yellow\t1\t1\t1\n"
     ]
    }
   ],
   "source": [
    "%%hive\n",
    "SELECT \n",
    "    color,\n",
    "    quantity,\n",
    "    FIRST_VALUE(quantity) OVER(PARTITION BY color ORDER BY quantity), \n",
    "    LAST_VALUE(quantity) OVER(PARTITION BY color ORDER BY quantity)\n",
    "FROM \n",
    "    persons\n",
    "ORDER BY\n",
    "    color, quantity;"
   ]
  },
  {
   "cell_type": "markdown",
   "metadata": {},
   "source": [
    "### RANK(), DENSE_RANK(), CUME_DIST(), PERCENT_RANK()"
   ]
  },
  {
   "cell_type": "code",
   "execution_count": null,
   "metadata": {},
   "outputs": [],
   "source": [
    "%%hive\n",
    "SELECT \n",
    "    color, \n",
    "    RANK() OVER (ORDER BY color), \n",
    "    DENSE_RANK() OVER (ORDER BY color),\n",
    "    CUME_DIST() OVER (ORDER BY color),\n",
    "    PERCENT_RANK() OVER (ORDER BY color)\n",
    "FROM \n",
    "    persons;"
   ]
  },
  {
   "cell_type": "code",
   "execution_count": null,
   "metadata": {},
   "outputs": [],
   "source": [
    "%%hive\n",
    "ANALYZE TABLE persons COMPUTE STATISTICS;"
   ]
  },
  {
   "cell_type": "markdown",
   "metadata": {},
   "source": [
    "---"
   ]
  }
 ],
 "metadata": {
  "kernelspec": {
   "display_name": "Python 3",
   "language": "python",
   "name": "python3"
  },
  "language_info": {
   "codemirror_mode": {
    "name": "ipython",
    "version": 3
   },
   "file_extension": ".py",
   "mimetype": "text/x-python",
   "name": "python",
   "nbconvert_exporter": "python",
   "pygments_lexer": "ipython3",
   "version": "3.7.0"
  }
 },
 "nbformat": 4,
 "nbformat_minor": 2
}
