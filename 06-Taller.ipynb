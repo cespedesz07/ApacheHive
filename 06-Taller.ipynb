{
 "cells": [
  {
   "cell_type": "markdown",
   "metadata": {},
   "source": [
    "**Recuerde no agregar o quitar celdas en este notebook, ni modificar su tipo. Si lo hace, el sistema automaticamente lo calificará con cero punto cero (0.0)**"
   ]
  },
  {
   "cell_type": "markdown",
   "metadata": {},
   "source": [
    "Para resolver los problemas presentados, use el siguiente conjunto de datos. Use [gradetool](gradetool.md) para verificar las respuestas del notebook."
   ]
  },
  {
   "cell_type": "code",
   "execution_count": null,
   "metadata": {},
   "outputs": [],
   "source": [
    "%%writefile data.tsv\nB\t1999-08-28\t14\nE\t1999-12-06\t12\nE\t1993-07-21\t17\nC\t1991-02-12\t13\nE\t1995-04-25\t16\nA\t1992-08-22\t14\nB\t1999-06-11\t12\nE\t1993-01-27\t13\nE\t1999-09-10\t11\nE\t1990-05-03\t16\nE\t1994-02-14\t5\nA\t1988-04-27\t12\nA\t1990-10-06\t10\nE\t1985-02-12\t16\nE\t1998-09-14\t16\nB\t1994-08-30\t17\nA\t1997-12-15\t13\nB\t1995-08-23\t10\nB\t1998-11-22\t13\nB\t1997-04-09\t14\nE\t1993-12-27\t18\nE\t1999-01-14\t15\nA\t1992-09-19\t18\nB\t1993-03-02\t14\nB\t1999-10-21\t13\nA\t1990-08-31\t12\nC\t1994-01-25\t6\nE\t1990-02-09\t18\nA\t1990-09-26\t14\nA\t1993-05-08\t16\nB\t1995-09-06\t14\nE\t1991-02-18\t14\nA\t1993-01-11\t14\nA\t1990-07-22\t18\nC\t1994-09-09\t15\nC\t1994-07-27\t7\nD\t1990-10-10\t15\nA\t1990-09-05\t11\nB\t1991-10-01\t15\nA\t1994-10-25\t13"
   ]
  },
  {
   "cell_type": "code",
   "execution_count": null,
   "metadata": {},
   "outputs": [],
   "source": [
    "%load_ext bigdata\n%hive_init"
   ]
  },
  {
   "cell_type": "markdown",
   "metadata": {},
   "source": [
    "# Problema 1\n",
    "\n",
    "Calcule la cantidad de registros por letra."
   ]
  },
  {
   "cell_type": "code",
   "execution_count": null,
   "metadata": {},
   "outputs": [],
   "source": [
    "%%hive\n-- >>> Write your answer here <<<"
   ]
  },
  {
   "cell_type": "markdown",
   "metadata": {},
   "source": [
    "# Problema 2\n",
    "\n",
    "Construya una consulta que ordene la tabla por letra y valor (3ra columna)."
   ]
  },
  {
   "cell_type": "code",
   "execution_count": null,
   "metadata": {},
   "outputs": [],
   "source": [
    "%%hive\n-- >>> Write your answer here <<<"
   ]
  },
  {
   "cell_type": "markdown",
   "metadata": {},
   "source": [
    "# Problema 3\n",
    "\n",
    "Escriba una consulta que devuelva los cinco valores más pequeños de la tercera columna."
   ]
  },
  {
   "cell_type": "code",
   "execution_count": null,
   "metadata": {},
   "outputs": [],
   "source": [
    "%%hive\n-- >>> Write your answer here <<<"
   ]
  },
  {
   "cell_type": "markdown",
   "metadata": {},
   "source": [
    "---"
   ]
  },
  {
   "cell_type": "code",
   "execution_count": null,
   "metadata": {},
   "outputs": [],
   "source": [
    "!rm data.* pig_*"
   ]
  }
 ],
 "metadata": {
  "kernelspec": {
   "display_name": "Python 3",
   "language": "python",
   "name": "python3"
  },
  "language_info": {
   "codemirror_mode": {
    "name": "ipython",
    "version": 3
   },
   "file_extension": ".py",
   "mimetype": "text/x-python",
   "name": "python",
   "nbconvert_exporter": "python",
   "pygments_lexer": "ipython3",
   "version": "3.6.5"
  },
  "toc": {
   "base_numbering": 1,
   "nav_menu": {},
   "number_sections": false,
   "sideBar": true,
   "skip_h1_title": true,
   "title_cell": "Table of Contents",
   "title_sidebar": "Contents",
   "toc_cell": false,
   "toc_position": {},
   "toc_section_display": true,
   "toc_window_display": true
  },
  "toc-autonumbering": false
 },
 "nbformat": 4,
 "nbformat_minor": 2
}
