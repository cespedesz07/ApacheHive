{
 "cells": [
  {
   "cell_type": "markdown",
   "metadata": {},
   "source": [
    "Consultas -- Básico\n",
    "==="
   ]
  },
  {
   "cell_type": "code",
   "execution_count": 1,
   "metadata": {},
   "outputs": [
    {
     "name": "stdout",
     "output_type": "stream",
     "text": [
      "Hive initialized!\n"
     ]
    }
   ],
   "source": [
    "%load_ext bigdata\n",
    "%hive_init"
   ]
  },
  {
   "cell_type": "markdown",
   "metadata": {},
   "source": [
    "---"
   ]
  },
  {
   "cell_type": "code",
   "execution_count": 2,
   "metadata": {},
   "outputs": [],
   "source": [
    "%%hive\n",
    "DROP DATABASE IF EXISTS SQLdb CASCADE;\n",
    "\n",
    "CREATE DATABASE SQLdb;\n",
    "USE SQLdb;\n",
    "\n",
    "CREATE TABLE persons (\n",
    "    id INT,\n",
    "    firstname VARCHAR(10),\n",
    "    surname VARCHAR(10),\n",
    "    birthday DATE,\n",
    "    color VARCHAR(10),\n",
    "    quantity INT\n",
    ");\n",
    "\n",
    "INSERT INTO persons VALUES\n",
    "    (1,\"Vivian\",\"Hamilton\",\"1971-07-08\",\"green\",1),\n",
    "    (2,\"Karen\",\"Holcomb\",\"1974-05-23\",\"green\",4),\n",
    "    (3,\"Cody\",\"Garrett\",\"1973-04-22\",\"orange\",1),\n",
    "    (4,\"Roth\",\"Fry\",\"1975-01-29\",\"black\",1),\n",
    "    (5,\"Zoe\",\"Conway\",\"1974-07-03\",\"blue\",2),\n",
    "    (6,\"Gretchen\",\"Kinney\",\"1974-10-18\",\"violea\",1),\n",
    "    (7,\"Driscoll\",\"Klein\",\"1970-10-05\",\"blue\",5),\n",
    "    (8,\"Karyn\",\"Diaz\",\"1969-02-24\",\"red\",1),\n",
    "    (9,\"Merritt\",\"Guy\",\"1974-10-17\",\"indigo\",4),\n",
    "    (10,\"Kylan\",\"Sexton\",\"1975-02-28\",\"black\",4),\n",
    "    (11,\"Jordan\",\"Estes\",\"1969-12-07\",\"indigo\",4),\n",
    "    (12,\"Hope\",\"Coffey\",\"1973-12-24\",\"green\",5),\n",
    "    (13,\"Vivian\",\"Crane\",\"1970-08-27\",\"gray\",5),\n",
    "    (14,\"Clio\",\"Noel\",\"1972-12-12\",\"red\",5),\n",
    "    (15,\"Hope\",\"Silva\",\"1970-07-01\",\"blue\",5),\n",
    "    (16,\"Ayanna\",\"Jarvis\",\"1974-02-11\",\"orange\",5),\n",
    "    (17,\"Chanda\",\"Boyer\",\"1973-04-01\",\"green\",4),\n",
    "    (18,\"Chadwick\",\"Knight\",\"1973-04-29\",\"yellow\",1);"
   ]
  },
  {
   "cell_type": "markdown",
   "metadata": {},
   "source": [
    "---"
   ]
  },
  {
   "cell_type": "markdown",
   "metadata": {},
   "source": [
    "## Selección de datos"
   ]
  },
  {
   "cell_type": "markdown",
   "metadata": {},
   "source": [
    "### SELECT\n",
    "\n",
    "    SELECT what FROM tbl_name [WHERE where-conditions] [ORDER BY column_name];\n"
   ]
  },
  {
   "cell_type": "code",
   "execution_count": 3,
   "metadata": {},
   "outputs": [
    {
     "name": "stdout",
     "output_type": "stream",
     "text": [
      "1\tVivian\tHamilton\t1971-07-08\tgreen\t1\n",
      "2\tKaren\tHolcomb\t1974-05-23\tgreen\t4\n",
      "3\tCody\tGarrett\t1973-04-22\torange\t1\n",
      "4\tRoth\tFry\t1975-01-29\tblack\t1\n",
      "5\tZoe\tConway\t1974-07-03\tblue\t2\n",
      "6\tGretchen\tKinney\t1974-10-18\tviolea\t1\n",
      "7\tDriscoll\tKlein\t1970-10-05\tblue\t5\n",
      "8\tKaryn\tDiaz\t1969-02-24\tred\t1\n",
      "9\tMerritt\tGuy\t1974-10-17\tindigo\t4\n",
      "10\tKylan\tSexton\t1975-02-28\tblack\t4\n",
      "11\tJordan\tEstes\t1969-12-07\tindigo\t4\n",
      "12\tHope\tCoffey\t1973-12-24\tgreen\t5\n",
      "13\tVivian\tCrane\t1970-08-27\tgray\t5\n",
      "14\tClio\tNoel\t1972-12-12\tred\t5\n",
      "15\tHope\tSilva\t1970-07-01\tblue\t5\n",
      "16\tAyanna\tJarvis\t1974-02-11\torange\t5\n",
      "17\tChanda\tBoyer\t1973-04-01\tgreen\t4\n",
      "18\tChadwick\tKnight\t1973-04-29\tyellow\t1\n"
     ]
    }
   ],
   "source": [
    "%%hive\n",
    "--\n",
    "-- Este es el comando básico para visualizar el contenido de la BD\n",
    "--\n",
    "SELECT * FROM persons;"
   ]
  },
  {
   "cell_type": "code",
   "execution_count": 4,
   "metadata": {
    "scrolled": false
   },
   "outputs": [
    {
     "name": "stdout",
     "output_type": "stream",
     "text": [
      "Vivian\tHamilton\t1971-07-08\n",
      "Karen\tHolcomb\t1974-05-23\n",
      "Cody\tGarrett\t1973-04-22\n",
      "Roth\tFry\t1975-01-29\n",
      "Zoe\tConway\t1974-07-03\n",
      "Gretchen\tKinney\t1974-10-18\n",
      "Driscoll\tKlein\t1970-10-05\n",
      "Karyn\tDiaz\t1969-02-24\n",
      "Merritt\tGuy\t1974-10-17\n",
      "Kylan\tSexton\t1975-02-28\n",
      "Jordan\tEstes\t1969-12-07\n",
      "Hope\tCoffey\t1973-12-24\n",
      "Vivian\tCrane\t1970-08-27\n",
      "Clio\tNoel\t1972-12-12\n",
      "Hope\tSilva\t1970-07-01\n",
      "Ayanna\tJarvis\t1974-02-11\n",
      "Chanda\tBoyer\t1973-04-01\n",
      "Chadwick\tKnight\t1973-04-29\n"
     ]
    }
   ],
   "source": [
    "%%hive\n",
    "--\n",
    "-- Selección de campos específicos\n",
    "--\n",
    "SELECT firstname, surname, birthday FROM persons;"
   ]
  },
  {
   "cell_type": "markdown",
   "metadata": {},
   "source": [
    "### LIMIT"
   ]
  },
  {
   "cell_type": "code",
   "execution_count": 5,
   "metadata": {
    "scrolled": true
   },
   "outputs": [
    {
     "name": "stdout",
     "output_type": "stream",
     "text": [
      "1\tVivian\tHamilton\t1971-07-08\tgreen\t1\n",
      "2\tKaren\tHolcomb\t1974-05-23\tgreen\t4\n",
      "3\tCody\tGarrett\t1973-04-22\torange\t1\n"
     ]
    }
   ],
   "source": [
    "%%hive\n",
    "--\n",
    "-- Se limita la cantidad de registros a visualizar.\n",
    "--\n",
    "SELECT * FROM persons LIMIT 3;"
   ]
  },
  {
   "cell_type": "code",
   "execution_count": 6,
   "metadata": {
    "scrolled": false
   },
   "outputs": [
    {
     "name": "stdout",
     "output_type": "stream",
     "text": [
      "3\tCody\tGarrett\t1973-04-22\torange\t1\n",
      "4\tRoth\tFry\t1975-01-29\tblack\t1\n",
      "5\tZoe\tConway\t1974-07-03\tblue\t2\n",
      "6\tGretchen\tKinney\t1974-10-18\tviolea\t1\n",
      "7\tDriscoll\tKlein\t1970-10-05\tblue\t5\n"
     ]
    }
   ],
   "source": [
    "%%hive\n",
    "--\n",
    "-- Grupo especifico de registros a visualizar\n",
    "--\n",
    "SELECT * FROM persons LIMIT 2,5;"
   ]
  },
  {
   "cell_type": "markdown",
   "metadata": {},
   "source": [
    "### WHERE"
   ]
  },
  {
   "cell_type": "code",
   "execution_count": 7,
   "metadata": {
    "scrolled": true
   },
   "outputs": [
    {
     "name": "stdout",
     "output_type": "stream",
     "text": [
      "5\tZoe\tConway\t1974-07-03\tblue\t2\n",
      "7\tDriscoll\tKlein\t1970-10-05\tblue\t5\n",
      "15\tHope\tSilva\t1970-07-01\tblue\t5\n"
     ]
    }
   ],
   "source": [
    "%%hive\n",
    "--\n",
    "-- Condicional.\n",
    "--\n",
    "SELECT * FROM persons WHERE color = \"blue\";"
   ]
  },
  {
   "cell_type": "markdown",
   "metadata": {},
   "source": [
    "### Operadores relacionales"
   ]
  },
  {
   "cell_type": "code",
   "execution_count": 8,
   "metadata": {},
   "outputs": [
    {
     "name": "stdout",
     "output_type": "stream",
     "text": [
      "2\tKaren\tHolcomb\t1974-05-23\tgreen\t4\n",
      "7\tDriscoll\tKlein\t1970-10-05\tblue\t5\n",
      "9\tMerritt\tGuy\t1974-10-17\tindigo\t4\n",
      "10\tKylan\tSexton\t1975-02-28\tblack\t4\n",
      "11\tJordan\tEstes\t1969-12-07\tindigo\t4\n",
      "12\tHope\tCoffey\t1973-12-24\tgreen\t5\n",
      "13\tVivian\tCrane\t1970-08-27\tgray\t5\n",
      "14\tClio\tNoel\t1972-12-12\tred\t5\n",
      "15\tHope\tSilva\t1970-07-01\tblue\t5\n",
      "16\tAyanna\tJarvis\t1974-02-11\torange\t5\n",
      "17\tChanda\tBoyer\t1973-04-01\tgreen\t4\n"
     ]
    }
   ],
   "source": [
    "%%hive\n",
    "--\n",
    "-- Operadores relacionales\n",
    "--\n",
    "SELECT * FROM persons WHERE quantity > 2;"
   ]
  },
  {
   "cell_type": "code",
   "execution_count": 9,
   "metadata": {},
   "outputs": [
    {
     "name": "stdout",
     "output_type": "stream",
     "text": [
      "2\tKaren\tHolcomb\t1974-05-23\tgreen\t4\n",
      "4\tRoth\tFry\t1975-01-29\tblack\t1\n",
      "5\tZoe\tConway\t1974-07-03\tblue\t2\n",
      "6\tGretchen\tKinney\t1974-10-18\tviolea\t1\n",
      "9\tMerritt\tGuy\t1974-10-17\tindigo\t4\n",
      "10\tKylan\tSexton\t1975-02-28\tblack\t4\n",
      "16\tAyanna\tJarvis\t1974-02-11\torange\t5\n"
     ]
    }
   ],
   "source": [
    "%%hive\n",
    "--\n",
    "-- Condicional con fechas\n",
    "--\n",
    "SELECT * FROM persons WHERE birthday >= \"1974-01-01\";"
   ]
  },
  {
   "cell_type": "code",
   "execution_count": 10,
   "metadata": {},
   "outputs": [
    {
     "name": "stdout",
     "output_type": "stream",
     "text": [
      "Vivian\ttrue\t1\tfalse\n",
      "Karen\ttrue\t4\ttrue\n",
      "Cody\ttrue\t1\tfalse\n",
      "Roth\ttrue\t1\tfalse\n",
      "Zoe\ttrue\t2\tfalse\n",
      "Gretchen\ttrue\t1\tfalse\n",
      "Driscoll\ttrue\t5\ttrue\n",
      "Karyn\ttrue\t1\tfalse\n",
      "Merritt\ttrue\t4\ttrue\n",
      "Kylan\ttrue\t4\ttrue\n",
      "Jordan\ttrue\t4\ttrue\n",
      "Hope\ttrue\t5\ttrue\n",
      "Vivian\ttrue\t5\ttrue\n",
      "Clio\ttrue\t5\ttrue\n",
      "Hope\ttrue\t5\ttrue\n",
      "Ayanna\ttrue\t5\ttrue\n",
      "Chanda\ttrue\t4\ttrue\n",
      "Chadwick\ttrue\t1\tfalse\n"
     ]
    }
   ],
   "source": [
    "%%hive\n",
    "--\n",
    "-- resultados de condicionales\n",
    "-- NO FUNCIONA EN HIVE\n",
    "--\n",
    "SELECT firstname, firstname < 'g', quantity, quantity >= 3 FROM persons;"
   ]
  },
  {
   "cell_type": "code",
   "execution_count": 11,
   "metadata": {},
   "outputs": [
    {
     "name": "stdout",
     "output_type": "stream",
     "text": [
      "1\tA\n",
      "2\tB\n",
      "3\tC\n",
      "24\tX\n",
      "25\tY\n",
      "26\tZ\n"
     ]
    }
   ],
   "source": [
    "%%hive\n",
    "DROP TABLE IF EXISTS jointable;\n",
    "\n",
    "CREATE TABLE  jointable (\n",
    "    letter_id INT,\n",
    "    letter VARCHAR(1)\n",
    ");\n",
    "\n",
    "INSERT INTO jointable VALUES\n",
    "    (1,\"A\"),\n",
    "    (2,\"B\"),\n",
    "    (3,\"C\"),\n",
    "    (24,\"X\"),\n",
    "    (25,\"Y\"),\n",
    "    (26,\"Z\");\n",
    "\n",
    "SELECT * FROM jointable;"
   ]
  },
  {
   "cell_type": "markdown",
   "metadata": {},
   "source": [
    "### Subconsultas"
   ]
  },
  {
   "cell_type": "code",
   "execution_count": 12,
   "metadata": {},
   "outputs": [
    {
     "name": "stdout",
     "output_type": "stream",
     "text": [
      "2\tB\n"
     ]
    }
   ],
   "source": [
    "%%hive\n",
    "SELECT * FROM jointable\n",
    "WHERE letter_id = (SELECT id FROM persons WHERE firstname = 'Karen');"
   ]
  },
  {
   "cell_type": "code",
   "execution_count": 13,
   "metadata": {},
   "outputs": [
    {
     "name": "stdout",
     "output_type": "stream",
     "text": [
      "8\tKaryn\tDiaz\t1969-02-24\tred\t1\n"
     ]
    }
   ],
   "source": [
    "%%hive\n",
    "--\n",
    "-- Sub-consultas.\n",
    "-- Busca la persona más vieja en la tabla.\n",
    "--\n",
    "SELECT * \n",
    "FROM \n",
    "    persons \n",
    "WHERE \n",
    "    birthday = (SELECT \n",
    "                    MIN(birthday) \n",
    "                FROM persons);"
   ]
  },
  {
   "cell_type": "markdown",
   "metadata": {},
   "source": [
    "---"
   ]
  },
  {
   "cell_type": "markdown",
   "metadata": {},
   "source": [
    "> Otros ejemplos son presentados [aquí](https://github.com/jdvelasq/bash-for-analytics/blob/master/05-sql.ipynb)"
   ]
  },
  {
   "cell_type": "markdown",
   "metadata": {},
   "source": [
    "----"
   ]
  },
  {
   "cell_type": "markdown",
   "metadata": {},
   "source": [
    "### DISTINCT"
   ]
  },
  {
   "cell_type": "code",
   "execution_count": 14,
   "metadata": {},
   "outputs": [
    {
     "name": "stdout",
     "output_type": "stream",
     "text": [
      "green\n",
      "green\n",
      "orange\n",
      "black\n",
      "blue\n",
      "violea\n",
      "blue\n",
      "red\n",
      "indigo\n",
      "black\n",
      "indigo\n",
      "green\n",
      "gray\n",
      "red\n",
      "blue\n",
      "orange\n",
      "green\n",
      "yellow\n"
     ]
    }
   ],
   "source": [
    "%%hive\n",
    "SELECT color FROM persons;"
   ]
  },
  {
   "cell_type": "code",
   "execution_count": 15,
   "metadata": {},
   "outputs": [
    {
     "name": "stdout",
     "output_type": "stream",
     "text": [
      "black\n",
      "blue\n",
      "gray\n",
      "green\n",
      "indigo\n",
      "orange\n",
      "red\n",
      "violea\n",
      "yellow\n"
     ]
    }
   ],
   "source": [
    "%%hive\n",
    "SELECT DISTINCT color FROM persons;"
   ]
  },
  {
   "cell_type": "code",
   "execution_count": 16,
   "metadata": {},
   "outputs": [
    {
     "name": "stdout",
     "output_type": "stream",
     "text": [
      "Boyer\n",
      "Coffey\n",
      "Conway\n",
      "Crane\n",
      "Diaz\n",
      "Estes\n",
      "Fry\n",
      "Garrett\n",
      "Guy\n",
      "Hamilton\n",
      "Holcomb\n",
      "Jarvis\n",
      "Kinney\n",
      "Klein\n",
      "Knight\n",
      "Noel\n",
      "Sexton\n",
      "Silva\n"
     ]
    }
   ],
   "source": [
    "%%hive\n",
    "--\n",
    "-- Este comando permite ver los registro únicos de un campo.\n",
    "--\n",
    "SELECT DISTINCT surname FROM persons;"
   ]
  },
  {
   "cell_type": "code",
   "execution_count": 17,
   "metadata": {},
   "outputs": [
    {
     "name": "stdout",
     "output_type": "stream",
     "text": [
      "1969\t2\t24\n",
      "1969\t12\t7\n",
      "1970\t7\t1\n",
      "1970\t8\t27\n",
      "1970\t10\t5\n",
      "1971\t7\t8\n",
      "1972\t12\t12\n",
      "1973\t4\t1\n",
      "1973\t4\t22\n",
      "1973\t4\t29\n",
      "1973\t12\t24\n",
      "1974\t2\t11\n",
      "1974\t5\t23\n",
      "1974\t7\t3\n",
      "1974\t10\t17\n",
      "1974\t10\t18\n",
      "1975\t1\t29\n",
      "1975\t2\t28\n"
     ]
    }
   ],
   "source": [
    "%%hive\n",
    "SELECT DISTINCT YEAR(birthday), MONTH(birthday), DAYOFMONTH(birthday) FROM persons;"
   ]
  },
  {
   "cell_type": "code",
   "execution_count": 18,
   "metadata": {},
   "outputs": [
    {
     "name": "stdout",
     "output_type": "stream",
     "text": [
      "9\n"
     ]
    }
   ],
   "source": [
    "%%hive\n",
    "--\n",
    "-- numero de colores diferentes\n",
    "--\n",
    "SELECT COUNT(DISTINCT color) FROM persons;"
   ]
  },
  {
   "cell_type": "markdown",
   "metadata": {},
   "source": [
    "### NULL"
   ]
  },
  {
   "cell_type": "code",
   "execution_count": 19,
   "metadata": {},
   "outputs": [
    {
     "name": "stdout",
     "output_type": "stream",
     "text": [
      "1\tA\n",
      "2\tNULL\n",
      "NULL\tC\n",
      "NULL\tNULL\n",
      "5\tE\n"
     ]
    }
   ],
   "source": [
    "%%hive\n",
    "DROP TABLE IF EXISTS nulltable;\n",
    "CREATE TABLE  nulltable (\n",
    "    col1 INT,\n",
    "    col2 VARCHAR(1)\n",
    ");\n",
    "\n",
    "INSERT INTO nulltable VALUES\n",
    "    (1,\"A\"),\n",
    "    (2,NULL),\n",
    "    (NULL,\"C\"),\n",
    "    (NULL,NULL),\n",
    "    (5,\"E\");\n",
    "\n",
    "SELECT * FROM nulltable;"
   ]
  },
  {
   "cell_type": "code",
   "execution_count": 20,
   "metadata": {},
   "outputs": [
    {
     "name": "stdout",
     "output_type": "stream",
     "text": [
      "NULL\tC\n",
      "NULL\tNULL\n"
     ]
    }
   ],
   "source": [
    "%%hive\n",
    "SELECT * FROM nulltable WHERE col1 IS NULL;"
   ]
  },
  {
   "cell_type": "code",
   "execution_count": 21,
   "metadata": {},
   "outputs": [
    {
     "name": "stdout",
     "output_type": "stream",
     "text": [
      "2\tNULL\n",
      "NULL\tNULL\n"
     ]
    }
   ],
   "source": [
    "%%hive\n",
    "SELECT * FROM nulltable WHERE col2 IS NULL;"
   ]
  },
  {
   "cell_type": "code",
   "execution_count": 22,
   "metadata": {},
   "outputs": [
    {
     "name": "stdout",
     "output_type": "stream",
     "text": [
      "1\tA\n",
      "2\tUnknown\n",
      "Unknown\tC\n",
      "Unknown\tUnknown\n",
      "5\tE\n"
     ]
    }
   ],
   "source": [
    "%%hive\n",
    "--\n",
    "-- condicionales\n",
    "--\n",
    "SELECT \n",
    "    IF(col1 IS NULL,'Unknown', col1), \n",
    "    IF(col2 IS NULL,'Unknown', col2) \n",
    "FROM \n",
    "    nulltable;"
   ]
  },
  {
   "cell_type": "code",
   "execution_count": 23,
   "metadata": {},
   "outputs": [],
   "source": [
    "%%hive\n",
    "--\n",
    "-- condicionales\n",
    "-- No existe en Hive\n",
    "-- SELECT \n",
    "--     IFNULL(col1,'Unknown'), \n",
    "--     IFNULL(col2,'Unknown')\n",
    "-- FROM \n",
    "--     nulltable;"
   ]
  },
  {
   "cell_type": "markdown",
   "metadata": {},
   "source": [
    "### ORDER BY"
   ]
  },
  {
   "cell_type": "code",
   "execution_count": 24,
   "metadata": {},
   "outputs": [
    {
     "name": "stdout",
     "output_type": "stream",
     "text": [
      "1\tVivian\tHamilton\t1971-07-08\tgreen\t1\n",
      "2\tKaren\tHolcomb\t1974-05-23\tgreen\t4\n",
      "3\tCody\tGarrett\t1973-04-22\torange\t1\n",
      "4\tRoth\tFry\t1975-01-29\tblack\t1\n",
      "5\tZoe\tConway\t1974-07-03\tblue\t2\n",
      "6\tGretchen\tKinney\t1974-10-18\tviolea\t1\n",
      "7\tDriscoll\tKlein\t1970-10-05\tblue\t5\n",
      "8\tKaryn\tDiaz\t1969-02-24\tred\t1\n",
      "9\tMerritt\tGuy\t1974-10-17\tindigo\t4\n",
      "10\tKylan\tSexton\t1975-02-28\tblack\t4\n",
      "11\tJordan\tEstes\t1969-12-07\tindigo\t4\n",
      "12\tHope\tCoffey\t1973-12-24\tgreen\t5\n",
      "13\tVivian\tCrane\t1970-08-27\tgray\t5\n",
      "14\tClio\tNoel\t1972-12-12\tred\t5\n",
      "15\tHope\tSilva\t1970-07-01\tblue\t5\n",
      "16\tAyanna\tJarvis\t1974-02-11\torange\t5\n",
      "17\tChanda\tBoyer\t1973-04-01\tgreen\t4\n",
      "18\tChadwick\tKnight\t1973-04-29\tyellow\t1\n"
     ]
    }
   ],
   "source": [
    "%%hive\n",
    "SELECT * FROM persons;"
   ]
  },
  {
   "cell_type": "code",
   "execution_count": 25,
   "metadata": {},
   "outputs": [
    {
     "name": "stdout",
     "output_type": "stream",
     "text": [
      "8\tKaryn\tDiaz\t1969-02-24\tred\t1\n"
     ]
    }
   ],
   "source": [
    "%%hive\n",
    "--\n",
    "-- Selecciona el primer registro\n",
    "--\n",
    "SELECT * FROM persons ORDER BY birthday LIMIT 1;"
   ]
  },
  {
   "cell_type": "code",
   "execution_count": 26,
   "metadata": {},
   "outputs": [
    {
     "name": "stdout",
     "output_type": "stream",
     "text": [
      "10\tKylan\tSexton\t1975-02-28\tblack\t4\n"
     ]
    }
   ],
   "source": [
    "%%hive\n",
    "--\n",
    "-- Selecciona el último registro\n",
    "--\n",
    "SELECT * FROM persons ORDER BY birthday DESC LIMIT 1;"
   ]
  },
  {
   "cell_type": "code",
   "execution_count": 27,
   "metadata": {},
   "outputs": [
    {
     "name": "stdout",
     "output_type": "stream",
     "text": [
      "13\tVivian\tCrane\t1970-08-27\tgray\t5\n",
      "7\tDriscoll\tKlein\t1970-10-05\tblue\t5\n"
     ]
    }
   ],
   "source": [
    "%%hive\n",
    "--\n",
    "-- Selecciona una perte intermedia de los registros\n",
    "--\n",
    "SELECT * FROM persons ORDER BY birthday LIMIT 3,2;"
   ]
  },
  {
   "cell_type": "code",
   "execution_count": 28,
   "metadata": {},
   "outputs": [
    {
     "name": "stdout",
     "output_type": "stream",
     "text": [
      "10\tKylan\tSexton\t1975-02-28\tblack\t4\n",
      "17\tChanda\tBoyer\t1973-04-01\tgreen\t4\n",
      "2\tKaren\tHolcomb\t1974-05-23\tgreen\t4\n",
      "11\tJordan\tEstes\t1969-12-07\tindigo\t4\n",
      "9\tMerritt\tGuy\t1974-10-17\tindigo\t4\n",
      "15\tHope\tSilva\t1970-07-01\tblue\t5\n",
      "7\tDriscoll\tKlein\t1970-10-05\tblue\t5\n",
      "13\tVivian\tCrane\t1970-08-27\tgray\t5\n",
      "12\tHope\tCoffey\t1973-12-24\tgreen\t5\n",
      "16\tAyanna\tJarvis\t1974-02-11\torange\t5\n",
      "14\tClio\tNoel\t1972-12-12\tred\t5\n"
     ]
    }
   ],
   "source": [
    "%%hive\n",
    "--\n",
    "-- Orden ascendente\n",
    "--\n",
    "SELECT * FROM persons WHERE quantity > 2 ORDER BY quantity, color;"
   ]
  },
  {
   "cell_type": "code",
   "execution_count": 29,
   "metadata": {},
   "outputs": [
    {
     "name": "stdout",
     "output_type": "stream",
     "text": [
      "15\tHope\tSilva\t1970-07-01\tblue\t5\n",
      "7\tDriscoll\tKlein\t1970-10-05\tblue\t5\n",
      "13\tVivian\tCrane\t1970-08-27\tgray\t5\n",
      "12\tHope\tCoffey\t1973-12-24\tgreen\t5\n",
      "16\tAyanna\tJarvis\t1974-02-11\torange\t5\n",
      "14\tClio\tNoel\t1972-12-12\tred\t5\n",
      "10\tKylan\tSexton\t1975-02-28\tblack\t4\n",
      "17\tChanda\tBoyer\t1973-04-01\tgreen\t4\n",
      "2\tKaren\tHolcomb\t1974-05-23\tgreen\t4\n",
      "11\tJordan\tEstes\t1969-12-07\tindigo\t4\n",
      "9\tMerritt\tGuy\t1974-10-17\tindigo\t4\n"
     ]
    }
   ],
   "source": [
    "%%hive\n",
    "--\n",
    "-- Orden descendente en quantity\n",
    "--\n",
    "SELECT * FROM persons WHERE quantity > 2 ORDER BY quantity DESC, color;"
   ]
  },
  {
   "cell_type": "markdown",
   "metadata": {},
   "source": [
    "### JOIN\n",
    "\n",
    "Los joins permiten unir la información de dos o más tablas. Los distintos tipos de joins son explicados en la siguiente gráfica:\n",
    "\n",
    "![joins.jpg](images/joins.jpg)"
   ]
  },
  {
   "cell_type": "code",
   "execution_count": 30,
   "metadata": {},
   "outputs": [
    {
     "name": "stdout",
     "output_type": "stream",
     "text": [
      "1\tVivian\tA\n",
      "2\tKaren\tB\n",
      "3\tCody\tC\n"
     ]
    }
   ],
   "source": [
    "%%hive\n",
    "SELECT id, firstname, letter\n",
    "FROM persons INNER JOIN jointable ON id = letter_id;"
   ]
  },
  {
   "cell_type": "markdown",
   "metadata": {},
   "source": [
    "### INSERT OVERWRITE"
   ]
  },
  {
   "cell_type": "code",
   "execution_count": 31,
   "metadata": {},
   "outputs": [],
   "source": [
    "!mkdir output"
   ]
  },
  {
   "cell_type": "code",
   "execution_count": 32,
   "metadata": {},
   "outputs": [],
   "source": [
    "%%hive\n",
    "INSERT OVERWRITE LOCAL DIRECTORY \n",
    "    '/tmp/output' \n",
    "ROW FORMAT \n",
    "DELIMITED FIELDS TERMINATED BY ',' \n",
    "SELECT * FROM persons;"
   ]
  },
  {
   "cell_type": "code",
   "execution_count": 33,
   "metadata": {},
   "outputs": [
    {
     "name": "stdout",
     "output_type": "stream",
     "text": [
      "/tmp/output/000000_0\n"
     ]
    }
   ],
   "source": [
    "!ls /tmp/output/*"
   ]
  },
  {
   "cell_type": "code",
   "execution_count": 34,
   "metadata": {},
   "outputs": [
    {
     "name": "stdout",
     "output_type": "stream",
     "text": [
      "1,Vivian,Hamilton,1971-07-08,green,1\n",
      "2,Karen,Holcomb,1974-05-23,green,4\n",
      "3,Cody,Garrett,1973-04-22,orange,1\n",
      "4,Roth,Fry,1975-01-29,black,1\n",
      "5,Zoe,Conway,1974-07-03,blue,2\n",
      "6,Gretchen,Kinney,1974-10-18,violea,1\n",
      "7,Driscoll,Klein,1970-10-05,blue,5\n",
      "8,Karyn,Diaz,1969-02-24,red,1\n",
      "9,Merritt,Guy,1974-10-17,indigo,4\n",
      "10,Kylan,Sexton,1975-02-28,black,4\n",
      "11,Jordan,Estes,1969-12-07,indigo,4\n",
      "12,Hope,Coffey,1973-12-24,green,5\n",
      "13,Vivian,Crane,1970-08-27,gray,5\n",
      "14,Clio,Noel,1972-12-12,red,5\n",
      "15,Hope,Silva,1970-07-01,blue,5\n",
      "16,Ayanna,Jarvis,1974-02-11,orange,5\n",
      "17,Chanda,Boyer,1973-04-01,green,4\n",
      "18,Chadwick,Knight,1973-04-29,yellow,1\n"
     ]
    }
   ],
   "source": [
    "!cat /tmp/output/000000_0"
   ]
  },
  {
   "cell_type": "code",
   "execution_count": 35,
   "metadata": {},
   "outputs": [],
   "source": [
    "!rm -rf /tmp/ouput"
   ]
  },
  {
   "cell_type": "markdown",
   "metadata": {},
   "source": [
    "---"
   ]
  }
 ],
 "metadata": {
  "kernelspec": {
   "display_name": "Python 3",
   "language": "python",
   "name": "python3"
  },
  "language_info": {
   "codemirror_mode": {
    "name": "ipython",
    "version": 3
   },
   "file_extension": ".py",
   "mimetype": "text/x-python",
   "name": "python",
   "nbconvert_exporter": "python",
   "pygments_lexer": "ipython3",
   "version": "3.7.0"
  },
  "toc": {
   "base_numbering": 1,
   "nav_menu": {},
   "number_sections": false,
   "sideBar": true,
   "skip_h1_title": true,
   "title_cell": "Table of Contents",
   "title_sidebar": "Contents",
   "toc_cell": false,
   "toc_position": {},
   "toc_section_display": true,
   "toc_window_display": true
  },
  "toc-autonumbering": false
 },
 "nbformat": 4,
 "nbformat_minor": 2
}
